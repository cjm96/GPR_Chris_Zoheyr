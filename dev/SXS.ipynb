{
 "cells": [
  {
   "cell_type": "markdown",
   "metadata": {},
   "source": [
    "# Some draft code for messing around with the SXS data"
   ]
  },
  {
   "cell_type": "code",
   "execution_count": 1,
   "metadata": {
    "collapsed": false
   },
   "outputs": [
    {
     "name": "stdout",
     "output_type": "stream",
     "text": [
      "('numpy version', '1.11.0')\n",
      "('scipy version', '0.17.0')\n",
      "('matplotlib version', '1.5.1')\n"
     ]
    }
   ],
   "source": [
    "import numpy as np\n",
    "print ( \"numpy version\" , np.__version__ )\n",
    "\n",
    "import scipy\n",
    "print ( \"scipy version\" , scipy.__version__ )\n",
    "\n",
    "import matplotlib\n",
    "from matplotlib import pyplot as plt\n",
    "print ( \"matplotlib version\" , matplotlib.__version__ )\n",
    "\n",
    "import os"
   ]
  },
  {
   "cell_type": "code",
   "execution_count": 3,
   "metadata": {
    "collapsed": true
   },
   "outputs": [],
   "source": [
    "# Functions\n",
    "\n",
    "\n",
    "\n",
    "# Get the mass ratio for a particular SXS simulation from the metadata file\n",
    "def GetMassRatio ( ID ):\n",
    "    \n",
    "    fname = \"../data/SXS_data/\" + ID + \"/metadata\" + ID.split('-')[1] + \".txt\"\n",
    "    \n",
    "    with open(fname) as f:\n",
    "        content = f.readlines()\n",
    "    \n",
    "    for line in content:\n",
    "        if \"relaxed-mass1\" in line:\n",
    "            relaxed_mass1 = float ( line.split()[-1] )\n",
    "        elif \"relaxed-mass2\" in line:\n",
    "            relaxed_mass2 = float ( line.split()[-1] )\n",
    "\n",
    "    mass_ratio = relaxed_mass1 / relaxed_mass2\n",
    "    \n",
    "    return mass_ratio\n",
    "\n",
    "\n",
    "\n",
    "# Sort a list of simulations into order of increasing mass ratio \n",
    "def SortSXSsimulations ( simulations ):\n",
    "    \n",
    "    mass_ratios = [ [ ID , GetMassRatio ( ID ) ] for ID in simulations ]\n",
    "    \n",
    "    indices = np.argsort( [ row[1] for row in mass_ratios ] )\n",
    "    \n",
    "    mass_ratios = [ mass_ratios[row] for row in indices ]\n",
    "    \n",
    "    newsimulations = [ m[0] for m in mass_ratios ]\n",
    "    \n",
    "    return newsimulations\n",
    "\n",
    "\n",
    "\n",
    "# Load some of the relevent metadata for a particular SXS simulation\n",
    "def LoadMetaData ( ID ):\n",
    "    \n",
    "    fname = \"../data/SXS_data/\" + ID + \"/metadata\" + ID.split('-')[1] + \".txt\"\n",
    "    \n",
    "    with open(fname) as f:\n",
    "        content = f.readlines()\n",
    "    \n",
    "    for line in content:\n",
    "        if \"relaxed-mass1\" in line:\n",
    "            relaxed_mass1 = float ( line.split()[-1] )\n",
    "        elif \"relaxed-mass2\" in line:\n",
    "            relaxed_mass2 = float ( line.split()[-1] )\n",
    "        elif \"remnant-mass\" in line:\n",
    "            remnant_mass = float ( line.split()[-1] )\n",
    "    \n",
    "    total_mass = relaxed_mass1 + relaxed_mass2\n",
    "    mass_ratio = relaxed_mass1 / relaxed_mass2\n",
    "    Delta_E = ( total_mass - remnant_mass ) / total_mass\n",
    "    \n",
    "    return np.array ( [ mass_ratio , Delta_E ] )\n",
    "\n",
    "\n",
    "\n",
    "# Load the 22 modes of strain for a particular SXS simulation\n",
    "def Load22Mode ( ID ):\n",
    "    \n",
    "    fname = \"../data/SXS_data/\" + ID + \"/StrainMode_l2_m2.txt\"\n",
    "    \n",
    "    return np.loadtxt ( fname )\n",
    "\n",
    "\n",
    "\n",
    "# Plot all of the SXS gravitational waveforms\n",
    "def PlotGWs ( simulations ):\n",
    "    \n",
    "    offset = 0\n",
    "    \n",
    "    for ID in simulations:\n",
    "        d=Load22Mode ( ID )\n",
    "        plt.plot ( d[:,0] , d[:,1]+offset , label='q={0:.2f}'.format(GetMassRatio(ID)) )\n",
    "        offset -= 2.5\n",
    "        print d[:,0]\n",
    "    \n",
    "    plt.legend ( loc = 'center left' )\n",
    "    plt.show ( )\n",
    "    plt.clf ( )\n"
   ]
  },
  {
   "cell_type": "code",
   "execution_count": 4,
   "metadata": {
    "collapsed": false
   },
   "outputs": [
    {
     "name": "stdout",
     "output_type": "stream",
     "text": [
      "[ -108.76389622  -108.26389706  -107.76389789 ...,  9912.24770158\n",
      "  9912.34770192  9912.44770226]\n",
      "[  -108.76559056   -108.26559133   -107.7655921  ...,  10254.26910679\n",
      "  10254.3691067   10254.46910661]\n",
      "[ -108.7590194   -108.2590212   -107.759023   ...,  4135.44978056\n",
      "  4135.54977568  4135.64977081]\n",
      "[ -108.76803074  -107.77270853  -106.77738631 ...,  6535.77854418\n",
      "  6535.87854352  6535.97854287]\n",
      "[ -108.76454253  -107.98517026  -107.205798   ...,  3898.88406692\n",
      "  3898.98405901  3899.08405109]\n",
      "[ -108.77247746  -107.90774185  -107.04300625 ...,  5133.01053318\n",
      "  5133.11053337  5133.21053356]\n",
      "[ -108.76948552  -108.26948775  -107.76948999 ...,  3730.41970651\n",
      "  3730.51969313  3730.61967974]\n",
      "[ -108.77390785  -107.95380831  -107.13370877 ...,  5089.91097054\n",
      "  5090.01096784  5090.11096514]\n",
      "[ -108.77886615  -108.27886722  -107.77886829 ...,  8323.56224728\n",
      "  8323.6622434   8323.76223952]\n",
      "[ -108.7782909   -108.00888428  -107.23947765 ...,  4952.11485584\n",
      "  4952.21485367  4952.31485151]\n",
      "[ -108.7790989   -107.91834283  -107.05758675 ...,  6946.75876954\n",
      "  6946.85876599  6946.95876245]\n",
      "[ -108.7826072   -108.03458969  -107.28657219 ...,  5040.20488027\n",
      "  5040.30487894  5040.4048776 ]\n",
      "[ -108.78189183  -108.03317246  -107.28445309 ...,  5335.01924975\n",
      "  5335.11924627  5335.21924279]\n",
      "[ -108.78527947  -108.06245173  -107.33962398 ...,  5117.15684969\n",
      "  5117.25684797  5117.35684624]\n",
      "[ -108.78435113  -108.28435254  -107.78435396 ...,  6442.70942645\n",
      "  6442.80941727  6442.9094081 ]\n",
      "[ -108.78410431  -108.05652555  -107.32894678 ...,  5577.77166689\n",
      "  5577.87165684  5577.9716468 ]\n",
      "[ -108.78441877  -108.05364001  -107.32286125 ...,  5909.91897082\n",
      "  5910.01896552  5910.11896022]\n",
      "[ -108.78671417  -108.09615534  -107.4055965  ...,  5221.20377854\n",
      "  5221.30377452  5221.40377051]\n",
      "[ -108.78472217  -108.07805524  -107.3713883  ...,  5707.99970681\n",
      "  5708.09970058  5708.19969434]\n"
     ]
    }
   ],
   "source": [
    "# Code\n",
    "\n",
    "# Get the list of SXS simulation ID numbers\n",
    "simulations = os.listdir ( \"../data/SXS_data/\" )\n",
    "simulations = [ item for item in simulations if (\"SXS-\" in item) ]\n",
    "\n",
    "# Sort the simulations into increasing mass ratio order\n",
    "simulations = SortSXSsimulations(simulations)\n",
    "\n",
    "# Plot the strain GW waveform\n",
    "PlotGWs(simulations)\n"
   ]
  },
  {
   "cell_type": "code",
   "execution_count": null,
   "metadata": {
    "collapsed": true
   },
   "outputs": [],
   "source": []
  }
 ],
 "metadata": {
  "kernelspec": {
   "display_name": "Python 2",
   "language": "python",
   "name": "python2"
  },
  "language_info": {
   "codemirror_mode": {
    "name": "ipython",
    "version": 2
   },
   "file_extension": ".py",
   "mimetype": "text/x-python",
   "name": "python",
   "nbconvert_exporter": "python",
   "pygments_lexer": "ipython2",
   "version": "2.7.11"
  }
 },
 "nbformat": 4,
 "nbformat_minor": 2
}
