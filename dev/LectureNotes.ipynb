{
 "cells": [
  {
   "cell_type": "markdown",
   "metadata": {
    "collapsed": true
   },
   "source": [
    "# Gaussian Process Regression\n",
    "\n",
    "By Christopher J. Moore & Zoheyr Doctor\n",
    "\n",
    "Prepared for two 1.5 hour practical sessions held at the \"Workshop on Reduced Order Gravitational-Wave Modeling\" at the Max Planck Institute for Gravitational Physics, Potsdam from $18^{\\textrm{th}}-22^{\\textrm{nd}}$ of June, $2018$.\n"
   ]
  },
  {
   "cell_type": "markdown",
   "metadata": {},
   "source": [
    "# Some Useful References\n",
    "\n",
    "[RW] - The textbook \"Gaussian Processes for Machine Learning\", by Carl Edward Rasmussen and Christopher K. I. Williams, MIT Press (2006).\n",
    "\n",
    "[ADLER] - The textbook \"The Geometry of Random Fields\", by R. J. Adler, Wiley Series in Probability and Mathematical Statistics (1981).\n",
    "\n",
    "[MACKAY] - The textbook \"Information Theory, Inference, and Learning Algorithms\", by David J.C. MacKay, Cambridge University Press (2003).\n"
   ]
  },
  {
   "cell_type": "markdown",
   "metadata": {},
   "source": [
    "# Table of Contents\n",
    "\n",
    "1 Introduction\n",
    "\n",
    "2 What is a Gaussian Processes?\n",
    " - 2.1 Gaussian, or \"Normal\", Random Variables\n",
    " - 2.2 Gaussian Processes\n",
    " - 2.3 Some Examples of Gaussian Processes\n",
    " - - 2.3.1 Straight Line\n",
    " - - 2.3.2 Brownian Motion\n",
    " - - 2.3.2 Squared Exponential\n",
    "\n",
    "3 The Covariance Function\n",
    " - 3.1 Some General Terminology\n",
    " - 3.2 Bochner's Theorem\n",
    " - 3.3 Some Commonly Used Covariance Functions\n",
    " - - 3.3.1 SE\n",
    " - - 3.3.2 Matern\n",
    " - - 3.3.3 Wendland Polynomials\n",
    " - 3.4 Building New Covariance Functions From Old Ones\n",
    " - 3.5 Mean Square Continuity and Differentiability\n",
    "\n",
    "4 Using Gaussian Processes for Regression\n",
    " - 4.1 Regression with Gaussian Processes\n",
    " \n",
    "5 Gaussian Process Regression: A Gravitational Wave Example\n",
    "\n",
    "6 Conclusions"
   ]
  },
  {
   "cell_type": "markdown",
   "metadata": {},
   "source": [
    "# 1 Introduction\n",
    "\n",
    "Regression is a general term for predicting the values of some continuous quantities.\n",
    "A typically regression problem would involve predicting the value of some smooth function at a particular point given a set of (possibly noisy) observations at some other points. \n",
    "\n",
    "As we will see in this notebook, Gaussian processes can be used in a very elegant way to tackle regression problems. \n",
    "There are several reasons why one might want to use Gaussian process regression (GPR) instead of some other techniques.\n",
    "GPR is very easy to implement and makes very few hidden assumptions about the nature of the underlying function. Furthermore, the method involves the specification of relatively few arbitrary parameters (or parameterisations), and for those that are required there is very natural Bayesian framework for selecting the best parameters. The technique can be easily applied to irregularly sampled data in any number of dimensions, and is flexible enough to allow for additional data to be added later, as it becomes avaiable.\n",
    "The main disadvantage of GPR is the difficulty encoutered when trying to apply the methods to large data sets; it is typically difficult to apply the techniques that will be discussed in these notes to data sets containing more than around $10^{4}$ points. (Although generalisations of these techniques designed for large data sets do exist.)\n",
    "\n",
    "In section 2 of these notes the concept of a Gaussian process is defined. The properties of a Gaussian process are governed principally by it's covariance function and the properties of the covariance function are the topic of section 3. The remainder of the notes are concerned with how to use Gaussian processes for regression.\n",
    "\n",
    "This Jupyter notebook has been prepared to run with python 3, and we have attempted to ensure that it requires only standard libraries to run: numpy (tested with version 1.14.2), scipy (tested with version 0.19.1) and matplotlib (tested with version 2.1.0). In a small number of places the MCMC library $\\textbf{emcee}$ (tested with version 2.2.1) and the plotting library $\\textbf{corner}$ (tested with version 2.0.1) are also used. These can be installed from http://dfm.io/emcee/current/ and http://corner.readthedocs.io/en/latest/install.html respectively.\n",
    "            "
   ]
  },
  {
   "cell_type": "code",
   "execution_count": 1,
   "metadata": {},
   "outputs": [
    {
     "name": "stdout",
     "output_type": "stream",
     "text": [
      "numpy version 1.14.2\n",
      "scipy version 0.19.1\n",
      "matplotlib version 2.1.0\n",
      "emcee version 2.2.1\n",
      "corner version 2.0.1\n"
     ]
    }
   ],
   "source": [
    "import numpy as np\n",
    "print ( \"numpy version\" , np.__version__ )\n",
    "\n",
    "import scipy\n",
    "from scipy import linalg as LA\n",
    "import scipy.optimize as spo\n",
    "print ( \"scipy version\" , scipy.__version__ )\n",
    "\n",
    "# uncomment to show matplotlib inline:\n",
    "%matplotlib inline\n",
    "\n",
    "import matplotlib\n",
    "from matplotlib import pyplot as plt\n",
    "from matplotlib import rc\n",
    "rc('font',**{'family':'sans-serif','sans-serif':['Helvetica']})\n",
    "rc('text', usetex=True)\n",
    "print ( \"matplotlib version\" , matplotlib.__version__ )\n",
    "\n",
    "# This is only used in a small number of places, don't worry if you don't have it.\n",
    "import emcee as mc\n",
    "print ( \"emcee version\" , mc.__version__ )\n",
    "\n",
    "# This is only used in a small number of places, don't worry if you don't have it.\n",
    "import corner\n",
    "print ( \"corner version\" , corner.__version__ )\n"
   ]
  },
  {
   "cell_type": "markdown",
   "metadata": {},
   "source": [
    "# 2 What is a Gaussian Process?\n",
    "\n",
    "A Gaussian Process may be regarded as an infinite dimensional generalisation of the more familiar finite dimensional Gaussian random variable. Therefore we begin by recapping finite dimensional Gaussian (or \"normal\") random variables."
   ]
  },
  {
   "cell_type": "markdown",
   "metadata": {},
   "source": [
    "## 2.1 Gaussian, or \"Normal\", Random Variables\n",
    "\n",
    "A continuous random variable $z\\in\\mathbb{R}$ is said to be Gaussian distributed if its probability density function (PDF) is given by\n",
    "\n",
    "$$ P(z)\\,\\textrm{d}z = \\frac{\\exp\\left(\\frac{-1}{2}\\left(\\frac{z-\\mu}{\\sigma}\\right)^{2}\\right)}{\\sqrt{2\\pi\\sigma^{2}}} \\,\\textrm{d}z \\,, \\hspace{1cm}\\textrm{(2.1)} $$\n",
    "\n",
    "where $\\mu$ is the \"mean\" and $\\sigma^{2}$ is the \"variance\";\n",
    "\n",
    "$$\\textrm{E}\\left[ z \\right] \\equiv \\int\\textrm{d}z\\,P(z)\\,z = \\mu \\,, $$\n",
    "$$\\textrm{E}\\left[ \\left(z-\\mu\\right)^{2} \\right] \\equiv \\int\\textrm{d}z\\,P(z)\\left(z-\\mu\\right)^{2} = \\sigma^{2} \\,.$$\n",
    "\n",
    "The variance must be non-negative; i.e. $\\sigma^{2}\\geq 0$.\n",
    "Eq.(2.1) is clumbersome to write, so the following shorthand is usually adopted,\n",
    "\n",
    "$$ z \\sim \\mathcal{N}(\\mu,\\sigma)\\,. $$\n",
    "\n",
    "$$\\phantom{.}$$\n",
    "\n",
    "A continuous random $N$-vector $\\mathbf{z}^{\\textrm{T}}=(z_{1},z_{2},\\ldots,z_{N})\\in\\mathbb{R}^{N}$ is said to be distributed as a multivariate Gaussian if its probability density function (PDF) is given by\n",
    "\n",
    "$$ P(\\mathbf{z})\\,\\textrm{d}\\mathbf{z} = \\frac{\\exp\\left(\\frac{-1}{2}(\\mathbf{z}-\\mathbf{\\mu})^{\\textrm{T}}\\cdot\\mathbf{K}^{-1}\\cdot (\\mathbf{z}-\\mathbf{\\mu})\\right)}{\\sqrt{(2\\pi)^{N}\\left|\\mathbf{K}\\right|}} \\,\\textrm{d}\\mathbf{z} \\,, \\hspace{1cm}\\textrm{(2.2)} $$\n",
    "\n",
    "where $\\mathbf{\\mu}\\in\\mathbb{R}^{N}$ is the \"mean\" $N$-vector and $\\mathbf{K}$ is the $N\\times N$ \"covariance\" matrix;\n",
    "\n",
    "$$\\textrm{E}\\left[ \\mathbf{z} \\right] \\equiv \\int\\textrm{d}\\mathbf{z}\\,P(\\mathbf{z})\\mathbf{z} = \\mathbf{\\mu} \\,, $$\n",
    "$$\\textrm{E}\\left[ \\left(\\mathbf{z}-\\mathbf{\\mu}\\right)\\left(\\mathbf{z}-\\mathbf{\\mu}\\right)^{\\textrm{T}} \\right] \\equiv \\int\\textrm{d}\\mathbf{z}\\,P(\\mathbf{z})\\left(\\mathbf{z}-\\mathbf{\\mu}\\right)\\otimes\\left(\\mathbf{z}-\\mathbf{\\mu}\\right)^{\\textrm{T}} = \\mathbf{K} \\,. $$\n",
    "\n",
    "Just as we had $\\sigma^{2}\\geq 0$ previously, here the covariance matrix must always be symmetric (i.e. $\\mathbf{K}=\\mathbf{K}^{\\textrm{T}}$) and $\\textbf{positive semi-definite}$. Eq.(2.2) is clumbersome to write, so the following shorthand is usually adopted,\n",
    "\n",
    "$$ \\mathbf{z} \\sim \\mathcal{N}(\\mathbf{\\mu},\\mathbf{K})\\,. $$\n",
    "\n",
    "$\\textbf{Definition: }$ A real $N\\times N$ matrix $\\mathbf{K}$ is $\\textbf{positive semi-definite}$ if $\\mathbf{u}^{\\textrm{T}}\\cdot\\mathbf{K}\\cdot\\mathbf{u}\\geq 0$ for any $N$-vector $\\mathbf{u}\\in\\mathbb{R}^{N}$.\n",
    "\n",
    "Furthermore, if $\\mathbf{u}^{\\textrm{T}}\\cdot\\mathbf{K}\\cdot\\mathbf{u} = 0 \\Rightarrow \\mathbf{u}=\\mathbf{0}$ then $\\mathbf{K}$ is said to be strictly positive definite.\n",
    "\n",
    "$\\textbf{Exercise: }$ Show that a symmetric matrix is positive semi-definite if and only if all of its eigenvalues are non-negative.\n",
    "\n",
    "\n",
    "$$\\phantom{.}$$\n",
    "\n",
    "We will assume the reader is familiar with most of the properties of multivariate Gaussian distributions. However, we will point out that a Gaussian distribution is fully specified by just the mean $\\mathbf{\\mu}$ and the pairwise covariances $\\mathbf{K}$ (all the higher order moments, e.g. $\\textrm{E}\\big[z_{1}\\times z_{2} \\times z_{3}\\big]$, may be expressed in terms of just $\\mathbf{\\mu}$ and $\\mathbf{K}$). We also poinrt our the \"affine\" property of Gaussian random variables which will be relevant in what follows; if $\\mathbf{z} \\sim \\mathcal{N}(\\mathbf{\\mu},\\mathbf{K})$ then for any $M$-vector $\\mathbf{a}$ and $M\\times N$ matrix $b$, the vector $\\mathbf{y}=\\mathbf{a}+\\mathbf{b}\\cdot\\mathbf{z}$ is also a Gaussian random variable, $\\mathbf{y}\\sim\\mathcal{N}(\\mathbf{a}+\\mathbf{b}\\cdot\\mathbf{\\mu},\\mathbf{b}\\cdot\\mathbf{K}\\cdot\\mathbf{b}^{\\textrm{T}})$. In particular, this implies that any subset of the components of $\\mathbf{z}$ is also a Gaussian random variable and the covariance matrix is given by the relevant subset of the components of $\\mathbf{K}$.\n",
    "\n",
    "$$\\phantom{.}$$\n",
    "\n",
    "It is easy to verify that the random $N$-vector $\\mathbf{z}'=\\mathbf{z}-\\mathbf{\\mu}$ is distributed as $\\mathbf{z}' \\sim \\mathcal{N}(\\mathbf{0},\\mathbf{\\Sigma})$. For this reason, it is usually possible to (without loss of generality) choose to work with zero-mean Gaussian random variables.\n",
    "\n",
    "$$\\phantom{.}$$\n",
    "\n",
    "Gaussian random variables are well suppported in any sensible programming language; e.g. python$\\ldots$\n",
    "\n"
   ]
  },
  {
   "cell_type": "code",
   "execution_count": 2,
   "metadata": {},
   "outputs": [
    {
     "data": {
      "image/png": "[encoded data removed]",
      "text/plain": [
       "<matplotlib.figure.Figure at 0x1074e8780>"
      ]
     },
     "metadata": {},
     "output_type": "display_data"
    }
   ],
   "source": [
    "# Finite dimensional Gaussian random variables in python\n",
    "\n",
    "# A mean 2-vector and a 2 by 2 covariance matrix\n",
    "mu = np.array ( [ 0 , 0 ] )\n",
    "K = np.array ( [ [ 1 , 3 ] , [ 3 , 10 ] ] )\n",
    "\n",
    "# Draw 1000 realisations of the Gaussian random variable z~N(mu,K)\n",
    "dist = np.array ( [ np.random.multivariate_normal ( mu , K ) for i in range ( 1000 ) ] )\n",
    "\n",
    "# Plot the distribution of z\n",
    "plt.hist2d ( dist[:,0] , dist[:,1] , bins=40 )\n",
    "plt.show ( )\n"
   ]
  },
  {
   "cell_type": "markdown",
   "metadata": {},
   "source": [
    "## 2.2 Gaussian Processes\n",
    "\n",
    "Instead of distributions over a finite number of random variables (i.e. random vectors) we now wish to consider distributions over smooth random functions. For some set $\\mathcal{S}$ we will consider real valued functions $\\,f:\\mathcal{S}\\rightarrow\\mathbb{R}$. The random variables will now be the values of the function evaluated at some particular input; i.e. $f(x)$ for $x\\in\\mathcal{S}$.\n",
    "\n",
    "We will use the following definition of a Gaussian process (GP).\n",
    "\n",
    "$\\textbf{Definition }$ For any set $\\mathcal{S}$, a $\\textbf{Gaussian Process}$ on $\\mathcal{S}$ is a collection of random variables $\\{{f(x):x\\in \\mathcal{S}\\}}$ such that for any finite ${n\\in\\mathbb{N}}$, and any ${x_{1},x_{2},\\ldots,x_{n}\\in\\mathcal{S}}$, the vector ${\\left(f(x_{1}),f(x_{2}),\\ldots,f(x_{n})\\right)^{\\mathrm{T}}\\in\\mathbb{R}^{n}}$ is distributed as a multivariate Gaussian.\n",
    "\n",
    "Notice that in this definition the set $\\mathcal{S}$ can be either finite and infinite dimensional. However, the finite case is of little interest as this definition simply reduces to the familiar multivariate Gaussian discussed above.\n",
    "\n",
    "$$\\phantom{.}$$\n",
    "\n",
    "$\\textbf{An Example of a GP: }$ For this audience perhaps the most familiar example of a Gaussian process is the noise, $n(t)$, in a gravitational wave interferometer. \n",
    "The noise is a real valued function of time. \n",
    "The noise is usually assumed to be stationary and Gaussian, meaning that in the frequency domain $\\textrm{E}\\left[ {\\widetilde{n}} (f) {\\widetilde{n}} (f')^{*}\\right]=\\frac{1}{2}S_{n}(f)\\delta(f-f')$. \n",
    "From the definition of the Fourier transform, it follows that in the time domain $\\textrm{E}\\left[n(t)n(t')\\right]=\\int_{0}^{\\infty}S_{n}(f)\\cos\\left(2\\pi f(t-t')\\right) \\equiv \\kappa(t-t')$, using the Fourier transform conventions of [arXiv:1408.0740]. The function $S_{n}(f)$ is called the detector's one-sided noise power spectral density (usually given in units of $\\textrm{Hz}^{-1}$).\n",
    "Comparing with our above definition we see that the noise is a GP with $\\mathcal{S}=\\mathbb{R}$, $x=t$, and $z(x)=n(t)$. \n",
    "The vector of noise values observed at any finite collection of time values, $\\mathbf{n}^{\\mathrm{T}}\\equiv\\left(n(t_{1}),n(t_{2}),\\ldots,n(t_{N})\\right)$, is distributed as $\\mathbf{n}\\sim\\mathcal{N}(\\mathbf{0},\\mathbf{K})$, where\n",
    "\n",
    "$$\\mathbf{K} = \\begin{pmatrix} \\kappa(t_{1}-t_{1}) & \\kappa(t_{1}-t_{2}) & \\ldots & \\kappa(t_{1}-t_{N}) \\\\ \\kappa(t_{2}-t_{1}) & \\kappa(t_{2}-t_{2}) & \\ldots & \\kappa(t_{2}-t_{N}) \\\\ \\vdots & \\vdots & \\ddots & \\vdots \\\\ \\kappa(t_{N}-t_{1}) & \\kappa(t_{N}-t_{2}) & \\ldots & \\kappa(t_{N}-t_{N})  \\end{pmatrix}\\,.$$\n",
    "\n",
    "$$\\phantom{.}$$\n",
    "\n",
    "Fortunately, it is very easy construct new GPs with any desired properties by simply specifying the desired mean ($\\mu(x)=\\textrm{E}\\big[f(x)\\big]$) and pairwise covariance ($k(x,x')=\\textrm{E}\\Big[\\big(f(x)-\\mu(x)\\big)\\big(f(x')-\\mu(x')\\big)\\Big]$). We are free to choose any mean function, $\\mu:\\mathcal{S}\\rightarrow\\mathbb{R}$; just as with Gaussian distributions, we will usually work with zero-mean GPs, $\\mu(x)=0$ for all $x\\in\\mathcal{S}$. We are also free to choose any \"covariance function\", $k:\\mathcal{S}\\times\\mathcal{S}\\rightarrow\\mathbb{R}$, subject to some constraints to be discussed below. Extending the notation in equations (1.1) and (1.2), if a function $f(x)$ is drawn from a GP with mean function $\\mu(x)$ and covariance function $k(x,x')$ then we write\n",
    "\n",
    "$$f(x) \\sim \\mathcal{GP}( \\, \\mu(x) \\, , \\, k(x,x') \\, ) \\,. \\hspace{3cm} \\textrm{(2.3)}$$\n",
    "\n",
    "From the definition of a GP, for any finite set of points $\\mathbf{x}_{*}^{\\textrm{T}} = (x_{1},x_{2},\\ldots,x_{N})$ the $N$-vector $\\mathbf{f}_{*}^{\\textrm{T}}=\\left(f(x_{1}),f(x_{2}),\\ldots,f(x_{N})\\right)$ must distributed as $\\mathbf{f}_{*} \\sim \\mathcal{N}( \\mathbf{M} , \\mathbf{K} )$, where\n",
    "\n",
    "$$ \\begin{align} \n",
    "&\\mathbf{M}^{\\textrm{T}} = \\big( \\, \\mu(x_{1}) \\, , \\, \\mu(x_{2}) \\, , \\ldots , \\, \\mu(x_{N}) \\, \\big) \\,, \\hspace{2cm} &\\textrm{(2.4)} \\\\\n",
    "\\textrm{and } \\; &\\mathbf{K} =  \\begin{pmatrix} k(x_{1},x_{1}) & k(x_{1},x_{2}) & \\ldots & k(x_{1},x_{N}) \\\\ k(x_{2},x_{1}) & k(x_{2},x_{2}) & \\ldots & k(x_{2},x_{N}) \\\\ \\vdots & \\vdots & \\ddots & \\vdots \\\\ k(x_{N},x_{1}) & k(x_{N},x_{2}) & \\ldots & k(x_{N},x_{N})  \\end{pmatrix} \\,. \\hspace{2cm} &\\textrm{(2.5)}\n",
    "\\end{align} $$\n",
    "\n",
    "If this is to make any sense, then the matrix $\\mathbf{K}$ formed in equation (2.5) had better be a valid be symmetric positive semi-definite covariance matrix. To ensure that this is always the case the covariance function $k(x,x')$ must be a $\\textbf{symmetric}$ function (i.e. $k(x,x')=k(x',x)$) and a $\\textrm{positive semi-definite}$ function.\n",
    "\n",
    "$\\textbf{Definition: }$ A covariance function $k:\\mathcal{S}\\times\\mathcal{S}\\rightarrow\\mathbb{R}$ is $\\textbf{positive semi-definite}$ if the $N\\times N$ matrix $\\mathbf{K}_{ij}=k(x_{i},x_{j})$ is positive semi-definite for all sets of points $x_{1},x_{2},\\ldots,x_{n}\\in\\mathcal{S}$ and for all $N\\in\\mathbb{N}$.\n",
    "\n",
    "In the context of Gaussian Process Regression (GPR), covariance functions are sometimes also known as \"kernels\".\n",
    "\n",
    "$$\\phantom{.}$$\n",
    "\n",
    "Note that equation (2.3) defines a Gaussian process by specifying the mean and pairwise covariance between random variables. Defining the GP in this way ensures that internal inconsistancies can never arrise among any of the random variables in the GP. For example, if our GP specifies that for a pair of points $x_{1}$ and $x_{1}$ we have $(f(x_1),f(x_2))\\sim\\mathcal{N}\\big(\\left[0,0\\right],\\left[\\left[k(x_1,x_1),k(x_1,x_2)\\right],\\left[k(x_2,x_1),k(x_2,x_2)\\right]\\right]\\big)$, then the affine property of Gaussian distributions automatically ensures that $f(x_1)\\sim\\mathcal{N}\\big(0,k(x_1,x_1)\\big)$ and $f(x_2)\\sim\\mathcal{N}\\big(0,k(x_2,x_2)\\big)$, as required by the definition in equation (2.3). \n"
   ]
  },
  {
   "cell_type": "markdown",
   "metadata": {},
   "source": [
    "## 2.3 Some Examples of Gaussian Processes\n",
    "\n",
    "### 2.3.1 Straight Line\n",
    "\n",
    "Consider the Gaussian process on the real line ($\\mathcal{S}=\\mathbb{R}$) with $\\mu(x) = 0$ and $k_{\\textrm{line}}(x,x')=xx'$.\n",
    "\n",
    "To show that this is indeed a valid GP we need to show that $k_{\\textrm{line}}(x,x')$ is a symmetric positive semi-definite covariance function. It is obviously symmetric, but the positive definite property requires a proof. Consider the covariance matrix formed by acting $k_{\\textrm{line}}$ pairwise on any finite set of points $\\mathbf{x}=(x_{1},x_{2},\\ldots,x_{n})$; the covariance matrix is $\\mathbf{K}=\\mathbf{x}\\otimes\\mathbf{x}^{\\textrm{T}}$, or $\\mathbf{K}_{ij}=\\mathbf{x}_{i}\\mathbf{x}_{j}$. To show that this matrix is positive semi-definite consider the sum $s=\\mathbf{u}^{\\textrm{T}}\\cdot\\mathbf{K}\\cdot\\mathbf{u}$, for some arbitrary $n$-vector $\\mathbf{u}\\in\\mathbb{R}^{n}$. The sum may be rewritten as $s=\\left(\\mathbf{u}^{\\textrm{T}}\\cdot\\mathbf{x}\\right)^{2}$ which shows that $s\\geq0$, and hence that $\\mathbf{K}$ is a positive semi-definite matrix. Since this holds for any choice of the points $\\mathbf{x}$ it follows that $k_{\\textrm{line}}(x,x')$ is a positive semi-definite function.\n",
    "\n",
    "Alternatively, we may show that $k_{\\textrm{line}}(x,x')$ is positive semi-definite by considering the eigenvalues of the symmetric covariance matrix $\\mathbf{K}=\\mathbf{x}\\otimes\\mathbf{x}^{\\textrm{T}}$. This matrix has one non-zero eigenvalue $\\lambda=\\left|\\mathbf{x}\\right|^{2} \\geq 0$ corresponding to the eigenvector $\\mathbf{x}$ (all the other eigenvectors vanish). Because all of the eigenvalues are non-negative for any choice of points $\\mathbf{x}=(x_{1},x_{2},\\ldots,x_{n})$, and for any $n\\in\\mathbb{N}$, the covariance function $k_{\\textrm{line}}(x,x')$ is positive semi-definite.\n",
    "\n",
    "We are now in a position to draw a random realisation from this GP. The code in the following cell defines the functions $\\mu(x)$, $k_{\\textrm{line}}(x,x')$, and the vector $\\mathbf{x}_{*}$ which is chosen to be a densely sampled vector of points in the range $0\\leq x < 10$. Try running the following cell several times to get a sense of the behaviour of this GP.\n"
   ]
  },
  {
   "cell_type": "code",
   "execution_count": 3,
   "metadata": {},
   "outputs": [
    {
     "data": {
      "image/png": "[encoded data removed]",
      "text/plain": [
       "<matplotlib.figure.Figure at 0x10d54c2b0>"
      ]
     },
     "metadata": {},
     "output_type": "display_data"
    }
   ],
   "source": [
    "# Straight Line\n",
    "\n",
    "# The mean function of the GP\n",
    "def mu ( x ):\n",
    "    return 0\n",
    "\n",
    "# The covariance function of the GP\n",
    "def k_line ( x , y ):\n",
    "    return x * y\n",
    "\n",
    "# The sampling points\n",
    "x_star = np.arange ( 0 , 10 , 0.5 )\n",
    "\n",
    "# The mean N-vector - formed from the mean function, mu\n",
    "M = np.array ( [ mu(x) for x in x_star ] )\n",
    "\n",
    "# The N by N covariance matrix - formed from the covariance function, k.\n",
    "K = np.array( [ [ k_line(x,y) for x in x_star ] for y in x_star ] )\n",
    "\n",
    "# A random realisation of the function values - drawn from the multivariate Gaussian distribution ~ N(M,K)\n",
    "f_star = np.random.multivariate_normal ( M , K )\n",
    "\n",
    "# Plot a realisation of the GP\n",
    "plt.plot ( x_star , f_star , 'bo' , markersize=4 )\n",
    "plt.ylim ( -14 , 14 )\n",
    "plt.show ( )\n"
   ]
  },
  {
   "cell_type": "markdown",
   "metadata": {},
   "source": [
    "$\\textbf{Exercise:}$ If you were to run the above cell many times and record the gradients of lines obtained, what distribution would the gradients follow? \n"
   ]
  },
  {
   "cell_type": "markdown",
   "metadata": {},
   "source": [
    "### 2.3.2 Brownian Motion\n",
    "\n",
    "Consider the Gaussian process on the positive real line ($\\mathcal{S}=\\mathbb{R}_{+}$) with $\\mu(x) = 0$ and $k_{\\textrm{Brownian}}(x,x')=\\textrm{min}(x,x')$.\n",
    "\n",
    "To show that this is a valid GP we need to show that $k_{\\textrm{Brownian}}(x,x')$ is a symmetric positive semi-definite covariance function. As was the case in the previous example 2.3.1 the symmetry property is obvious, but the positive semi-definite property requires proof. \n",
    "\n",
    "$\\textbf{Exercise:}$ Show that $k_{\\textrm{Brownian}}(x,x')$ is a positive semi-definite function. \n",
    "\n",
    "$\\textbf{Hint: }$ Let $H(t;x)=\\begin{cases}1\\quad\\textrm{if }t\\leq x\\\\0\\quad\\textrm{else}\\end{cases}\\,,$ and write the $\\textrm{min}$ function as $\\textrm{min}(x_{i},x_{j})=\\int_{0}^{\\infty}\\textrm{d}t\\;H(t;x_{i})H(t;x_{j})\\,.$ \n",
    "\n",
    "We are now in a position to draw a random realisation from this GP. The code in the following cell defines the functions $\\mu(x)$, $k_{\\textrm{line}}(x,x')$, and the vector $\\mathbf{x}_{*}$ which is chosen to be a densely sampled vector of points in the range $0\\leq x < 10$. Try running the following cell several times to get a sense of the behaviour of this GP."
   ]
  },
  {
   "cell_type": "code",
   "execution_count": 4,
   "metadata": {},
   "outputs": [
    {
     "data": {
      "image/png": "[encoded data removed]",
      "text/plain": [
       "<matplotlib.figure.Figure at 0x10d617e48>"
      ]
     },
     "metadata": {},
     "output_type": "display_data"
    }
   ],
   "source": [
    "# Brownian Motion\n",
    "\n",
    "# The mean function of the GP\n",
    "def mu ( x ):\n",
    "    return 0\n",
    "\n",
    "# The covariance function of the GP\n",
    "def k_Brownian ( x , y ):\n",
    "    return min ( x , y )\n",
    "\n",
    "# The sampling points\n",
    "x_star = np.arange ( 0 , 10 , 0.15 )\n",
    "\n",
    "# The mean N-vector - formed from the mean function, mu\n",
    "M = np.array ( [ mu(x) for x in x_star ] )\n",
    "\n",
    "# The N by N covariance matrix - formed from the covariance function, k.\n",
    "K = np.array( [ [ k_Brownian(x,y) for x in x_star ] for y in x_star ] )\n",
    "\n",
    "# A random realisation of the function values - drawn from the multivariate Gaussian distribution ~ N(M,K)\n",
    "f_star = np.random.multivariate_normal ( M , K )\n",
    "\n",
    "# Plot a realisation of the GP\n",
    "plt.plot ( x_star , f_star , linewidth=1 , marker='o' , markersize=4 , color='b' )\n",
    "plt.show ( )\n"
   ]
  },
  {
   "cell_type": "markdown",
   "metadata": {},
   "source": [
    "### 2.3.3 Squared Exponential\n",
    "\n",
    "Consider the Gaussian process on the real line ($\\mathcal{S}=\\mathbb{R}$) with $\\mu(x) = 0$ and $k_{\\textrm{SE}}(x,x')=\\exp\\left(-\\frac{1}{2}(x-x')^{2}\\right)$. This is a special case of the widely used \"squared exponential\" covariance function (see section 3.3.1).\n",
    "\n",
    "The function $k_{\\textrm{SE}}(x,x')$ is also symmetric positive semi-definite (see section 3.2).\n",
    "\n",
    "We are now in a position to draw a random realisation from this GP. The code in the following cell defines the functions $\\mu(x)$, $k_{\\textrm{line}}(x,x')$, and the vector $\\mathbf{x}_{*}$ which is chosen to be a densely sampled vector of points in the range $0\\leq x < 10$. Try running the following cell several times to get a sense of the behaviour of this GP."
   ]
  },
  {
   "cell_type": "code",
   "execution_count": 5,
   "metadata": {},
   "outputs": [
    {
     "data": {
      "image/png": "[encoded data removed]",
      "text/plain": [
       "<matplotlib.figure.Figure at 0x10d60e978>"
      ]
     },
     "metadata": {},
     "output_type": "display_data"
    }
   ],
   "source": [
    "# Squared exponential\n",
    "\n",
    "# The mean function of the GP\n",
    "def mu ( x ):\n",
    "    return 0\n",
    "\n",
    "# The covariance function of the GP - this is an example of a \"squared exponential\" covariance function, see Sec.?\n",
    "def k_SE ( x , y ):\n",
    "    return np.exp ( -0.5 * (x-y) * (x-y) )\n",
    "\n",
    "# The sampling points\n",
    "x_star = np.arange ( 0 , 10 , 0.1 )\n",
    "\n",
    "# The mean N-vector - formed from the mean function, mu\n",
    "M = np.array ( [ mu(x) for x in x_star ] )\n",
    "\n",
    "# The N by N covariance matrix - formed from the covariance function, k.\n",
    "K = np.array( [ [ k_SE(x,y) for x in x_star ] for y in x_star ] )\n",
    "\n",
    "# A random realisation of the function values - drawn from the multivariate Gaussian distribution ~ N(M,K)\n",
    "f_star = np.random.multivariate_normal ( M , K )\n",
    "\n",
    "# Plot a realisation of the GP\n",
    "plt.plot ( x_star , f_star , linewidth=1 , color='b' )\n",
    "plt.show ( )\n"
   ]
  },
  {
   "cell_type": "markdown",
   "metadata": {},
   "source": [
    "$\\textbf{Exercise:}$ The above cell generates random realisations of a squared exponential covariance function. Try modifying the covariance function to $k_{\\textrm{SE}}(x,x')=\\sigma_{f}^{2}\\exp\\left(\\frac{-1}{2}\\frac{(x-x')^{2}}{\\ell^{2}}\\right)$ and experiment with different choices of $\\sigma_{f}$ and $\\ell$. Explore how the these two \"hyperparameters\" (see Sec.3) control the properties of the GP. (You can also experiment with using a non-zero mean function, $\\mu(x)$.) Also, try experimenting with using $k_{\\textrm{?}}(x,x')=\\exp\\left(\\frac{-1}{2}(x-x')^{3}\\right)$; why doesn't this work?\n"
   ]
  },
  {
   "cell_type": "markdown",
   "metadata": {},
   "source": [
    "Note that the examples in sections $2.3.1$ and $2.3.1$ had a special point at $x=0$. The squared-exponential does not have any such prefered point, it is in fact translation invariant; $k(x,x')=k(x+\\Delta,x'+\\Delta)$. A covariance function with this property is called \"stationary\" (see section 3.1).\n",
    "\n",
    "Note also that in the example in section (2.3.3) we have choosen to stop drawing the curve with points and instead use a smooth curve. Of course, any practical computation involving GPs is performed on a finite number of points, so a list plot is more honest. However, the choice of the points $\\mathbf{x}_{*}$ is arbitrary and is designed to show the smooth behaviour of the underlying GP, so perhaps the line plot is more appropriate.\n"
   ]
  },
  {
   "cell_type": "markdown",
   "metadata": {},
   "source": [
    "# 3 The Covariance Function\n",
    "\n",
    "In section 2 it was shown how a GP can be specified by a symmetric positive definite covariance function, $k(x,x')$. We also saw through several examples that this covariance function governs the properties of the GP. In this section several covariance functions which are commonly used for regression will be introduced in a more systematic way. In addition, a more formal discussion of how the covariance function governs the \"smoothness\" of the GP will also be presented in section 3.5.\n"
   ]
  },
  {
   "cell_type": "markdown",
   "metadata": {},
   "source": [
    "## 3.1 Some General Terminology\n",
    "\n",
    "The discussion in this section will be restricted to covariance functions of GPs on $\\mathcal{S}=\\mathbb{R}^{N}$. In what follows $x,x'\\in\\mathbb{R}^{N}$, angled brackets $\\left<x|x'\\right>$ denote the standard Euclidean inner product between the $N$-vectors $x$ and $x'$, and $|x|=\\sqrt{\\left<x|x\\right>}$ denotes the standard Euclidean norm of $x$.\n",
    "\n",
    "$\\textbf{Definition: }$ A covariance function is said to be $\\textbf{stationary}$ if it depends only on the difference of the inputs; i.e. $k(x,x')=k(\\tau)$, where $\\tau=x-x'$. A stationary covariance function is invariant under translations; i.e. $k(x,x')=k(x+\\Delta,x'+\\Delta)$.\n",
    "\n",
    "$\\textbf{Definition: }$ A stationary covariance function is said to be $\\textbf{isotropic}$ if it is only a function of the Euclidean distance between the inputs; $k(x,x')=k(r)$, where $r=\\left|x-x'\\right|$. An isotropic covariance function is invariant under rotations as well as translations.\n"
   ]
  },
  {
   "cell_type": "markdown",
   "metadata": {},
   "source": [
    "## 3.2 Bochner's Theorem\n",
    "\n",
    "Section 2 introduced several examples of covariance functions and in each case it was necessary to prove that proposed covariance function was symmetric and positive semi-definite. The proof was different in each case, and in general there is no easy way to establish whether a particular function is positive semi-definite. (Although, it is usually easy to prove that a particular function is NOT positive semi-definite by simply evaluating the covariance matrix formed from a particular set of points and showing that this matrix has at least one negative eigenvalue.)\n",
    "\n",
    "$\\textbf{Exercise: }$ Show that the function $k(x,x')=\\begin{cases} \\exp(-(x-x')^{2}) &\\;\\textrm{if }|x-x'|<1 \\\\ 0 &\\;\\textrm{else} \\end{cases}$ is NOT positive semi-definite.\n",
    "\n",
    "$$\\phantom{.}$$\n",
    "\n",
    "Fortunately there is a theorem which allows us to easy establish whether any $\\textbf{stationary}$ function, $k(\\tau)$, is positive definite.\n",
    "\n",
    "$\\textbf{Bochner's Theorem: }$ A function $k:\\mathcal{S}\\rightarrow\\mathbb{R}$ is the covariance function of a stationary mean square continuous GP on $\\mathbb{R}^{N}$ if and only if it can be written as the following integral using a positive finite function $S(x)$ on $\\mathbb{R}^{N}$;\n",
    "$$k(\\tau) = \\int_{\\mathbb{R}^{N}}\\textrm{d}x \\; S(x) \\exp\\big(2\\pi i \\left<x|\\tau\\right> \\big) \\,. $$\n",
    "\n",
    "The function $S(x)$ is simply the Fourier transform of $k(\\tau)$. \n",
    "\n",
    "In section 2 the squared exponential covariance function was introduced. Bochner's theorem may now be used to prove that this function is indeed positive definite. The Fourier transform of the squared exponential function is another squared exponential function, which is always positive. Therefore, by Bochner's theorem, the function $k_{SE}$ is positive definite. \n",
    "\n",
    "$\\textbf{Exercise: }$ Show for a second time that the function $k(x,x')=\\begin{cases} \\exp(-(x-x')^{2}) &\\;\\textrm{if }|x-x'|<1 \\\\ 0 &\\;\\textrm{else} \\end{cases}$ is NOT positive semi-definite, this time using Bochner's theorem.\n",
    "         "
   ]
  },
  {
   "cell_type": "markdown",
   "metadata": {},
   "source": [
    "## 3.3 Some Commonly Used Covariance Functions\n",
    "\n",
    "In this section we will list some covariance functions for GPs on $\\mathcal{S}=\\mathbb{R}^{N}$ that have been widely used in the literature for regression.\n",
    "\n",
    "The covariance functions will also be coded up as python methods in a manner suitable for implementation in a GPR algorithm.\n"
   ]
  },
  {
   "cell_type": "markdown",
   "metadata": {},
   "source": [
    "### 3.3.1 Squared-Exponential Covariance\n",
    "\n",
    "Let's start with probably the most widely used kernel, the squared exponential, which has the form:\n",
    "\n",
    "$$k_{\\textrm{SE}}(x,x') = \\exp\\left(-\\frac{1}{2}\\frac{||x-x'||^2}{l^2}\\right)\\,.$$\n",
    "\n",
    "A slightly more general (and more flexible) version uses a non-trivial distance metric (Einstein summation convention is used here):\n",
    "\n",
    "$$k_{\\textrm{SE}}(x,x') = \\exp\\left(-\\frac{1}{2}g_{ab}(x_a-x'_a)(x_b-x'_b)\\right)\\,.$$\n",
    "\n",
    "The constants $l$ or the components of $g_{ab}$ are parameters to be chosen by the user. Alternatively, these parameters can be optimized for (see section X).\n",
    "\n",
    "In the code cell below a squared exponential kernel method that will compute the $K$ matrix with $k({\\bf x},{\\bf x_*})$ between points $\\texttt{X1}$ and $\\texttt{X2}$ has been defined.\n"
   ]
  },
  {
   "cell_type": "code",
   "execution_count": 6,
   "metadata": {
    "collapsed": true
   },
   "outputs": [],
   "source": [
    "def squared_exponential_kernel ( X1 , X2 , scale=1.0 , metric=None ):\n",
    "    \"\"\"\n",
    "    Computes the square exponential kernel.\n",
    "    \n",
    "    Parameters\n",
    "    ----------\n",
    "    X1: array, shape = (npoints,ndim)\n",
    "        Array of points in parameter space for which\n",
    "        to calculate the squared exponential covariance\n",
    "        with points in X2\n",
    "    X2: array, shape = (npoints,ndim)\n",
    "        Array of points in parameter space for which\n",
    "        to calculate the squared exponential covariance\n",
    "        with points in X1\n",
    "    scale: float or array with length ndim\n",
    "        Squared exponential length scale \n",
    "    metric: callable\n",
    "        A function that computes distances between\n",
    "        two points.\n",
    "        \n",
    "    Returns\n",
    "    -------\n",
    "    K: matrix\n",
    "        The covariance matrix for points in X\n",
    "    \"\"\"\n",
    "    npoints1 = X1.shape[0]\n",
    "    npoints2 = X2.shape[0]\n",
    "    ndim = X1.shape[1]\n",
    "    if isinstance(scale,(float,int)):\n",
    "        inv_scale = (1./scale)*np.ones(ndim)\n",
    "        inv_scale = np.diag(inv_scale)\n",
    "    else:\n",
    "        inv_scale = 1./scale\n",
    "        inv_scale = np.diag(inv_scale)\n",
    "    if metric == None:\n",
    "        dist = lambda a,b: np.sqrt(np.dot(np.dot(a-b,inv_scale),a-b))\n",
    "    else:\n",
    "        dist = metric\n",
    "    K = np.empty([npoints1,npoints2])\n",
    "    for i in range(npoints1):\n",
    "        for j in range(npoints2):\n",
    "            try:\n",
    "                K[i,j] = np.exp(-0.5*(dist(X1[i,:],X2[j,:])**2))\n",
    "            except FloatingPointError:\n",
    "                K[i,j]=0.\n",
    "    return K\n"
   ]
  },
  {
   "cell_type": "markdown",
   "metadata": {},
   "source": [
    "Add here ?\n",
    "\n",
    "Plot of the covariance function.\n",
    "\n",
    "Plot showing some random draws from the prior."
   ]
  },
  {
   "cell_type": "markdown",
   "metadata": {},
   "source": [
    "### 3.3.2 Matern Covariance\n",
    "\n",
    "When working with an isotropic covariance function (including the squared exponential described above in section 3.3.1) it is often convenient to define the scaled distance between two points $x,x'\\in\\mathcal{S}$;\n",
    "\n",
    "$$ r(x,x') = \\frac{|x-x'|}{l} \\,. $$\n",
    "\n",
    "Or a slightly more general version using a non-trivial distance metric;\n",
    "\n",
    "$$ r(x,x') = \\sqrt{g_{ab}(x_a-x'_a)(x_b-x'_b)} \\,. $$\n",
    "\n",
    "Following the conventions in [RW] the Matern class of kernels are defined as:\n",
    "\n",
    "$$ k_{\\textrm{Matern}}(r) = \\frac{2^{1-\\nu}}{\\Gamma(\\nu)} \\left(\\sqrt{2\\nu}r\\right)^{\\nu} K_\\nu\\left(\\sqrt{2\\nu}r\\right)\\,. $$\n",
    "\n",
    "The parameters $\\nu$ and $l$ are positive numbers and $K_\\nu(x)$ denotes the modified Bessel functions of the first kind.  While any value of $\\nu$ can be chosen in principle, one often chooses $\\nu$ to be a half integer value, because the covariance can then be written in the somewhat simpler form,\n",
    "\n",
    "$$ k_{\\nu=p+1/2}(r) = \\exp\\left(\\sqrt{2\\nu}r\\right) \\frac{\\Gamma(p+1)}{\\Gamma(2p+1)} \\sum_{i=0}^{p} \\frac{(p+i)!}{i!(p-i)!}  \\left(\\sqrt{8\\nu}r\\right)^{p-i}\\,. $$\n",
    "\n",
    "[RW] claim that the $\\nu=3/2$ and $\\nu=5/2$ kernels are the most important for machine learning, and they also have the added benefit of having even simpler forms:\n",
    "\n",
    "$$ k_{\\nu = 3/2}(r) = \\left(1+\\sqrt{3}r\\right) \\exp\\left(-\\sqrt{3}r\\right) \\,, $$\n",
    "\n",
    "$$ k_{\\nu = 5/2}(r) = \\left(1+\\sqrt{5}r + \\frac{5r^2}{3} \\right) \\exp\\left(-\\sqrt{5}r\\right) \\,. $$\n",
    "\n",
    "Perhaps the most interesting aspect of the Matern kernels is that the level of smoothness of the underlying GP can be controlled via the parameter $\\nu$. In fact, the GP is $n$-times mean-square differentiable where $n<\\nu$ (see section 3.5 on mean square differentiability). As $\\nu\\rightarrow\\infty$, a GP described by the Matern kernels become infinitely mean square differentiable. In fact, as $\\nu\\rightarrow\\infty$ the Matern kernel actually recovers the squared-exponential kernel! \n",
    "\n",
    "In the code cell below the Matern 3/2 and Matern 5/2 kernels have been defined as Python methods that will compute the $K$ matrix with $k({\\bf x},{\\bf x_*})$ between points $\\texttt{X1}$ and $\\texttt{X2}$ has been defined. \n"
   ]
  },
  {
   "cell_type": "code",
   "execution_count": 8,
   "metadata": {
    "collapsed": true
   },
   "outputs": [],
   "source": [
    "def Matern32 ( X1 , X2 , scale=1.0 , metric=None ):\n",
    "    \"\"\"\n",
    "    Computes Matern 3/2 kernel\n",
    "    \n",
    "    Parameters\n",
    "    ----------\n",
    "    X1: array, shape = (npoints,ndim)\n",
    "        Array of points in parameter space for which\n",
    "        to calculate the squared exponential covariance\n",
    "        with points in X2\n",
    "    X2: array, shape = (npoints,ndim)\n",
    "        Array of points in parameter space for which\n",
    "        to calculate the squared exponential covariance\n",
    "        with points in X1\n",
    "    scale: float or array with length ndim\n",
    "        Squared exponential length scale \n",
    "    metric: callable\n",
    "        A function that computes distances between\n",
    "        two points.\n",
    "        \n",
    "    Returns\n",
    "    -------\n",
    "    K: matrix\n",
    "        The covariance matrix for points in X\n",
    "    \"\"\"\n",
    "    npoints1 = X1.shape[0]\n",
    "    npoints2 = X2.shape[0]\n",
    "    ndim = X1.shape[1]\n",
    "    if isinstance(scale,(float,int)):\n",
    "        inv_scale = (1./scale)*np.ones(ndim)\n",
    "        inv_scale = np.diag(inv_scale)\n",
    "    else:\n",
    "        inv_scale = 1./scale\n",
    "        inv_scale = np.diag(inv_scale)\n",
    "    if metric == None:\n",
    "        dist = lambda a,b: np.sqrt(np.dot(np.dot(a-b,inv_scale),a-b))\n",
    "    else:\n",
    "        dist = metric\n",
    "    K = np.empty([npoints1,npoints2])\n",
    "    for i in range(npoints1):\n",
    "        for j in range(npoints2):\n",
    "            try:\n",
    "                K[i,j] = (1.+np.sqrt(3)*dist(X1[i,:],X2[j,:]))*np.exp(-np.sqrt(3)*dist(X1[i,:],X2[j,:]))\n",
    "            except FloatingPointError:\n",
    "                K[i,j]=0.\n",
    "    return K\n",
    "\n",
    "\n",
    "\n",
    "def Matern52 ( X1 , X2 , scale=1.0 , metric=None ):\n",
    "    \"\"\"\n",
    "    Computes Matern 5/2 kernel\n",
    "    \n",
    "    Parameters\n",
    "    ----------\n",
    "    X1: array, shape = (npoints,ndim)\n",
    "        Array of points in parameter space for which\n",
    "        to calculate the squared exponential covariance\n",
    "        with points in X2\n",
    "    X2: array, shape = (npoints,ndim)\n",
    "        Array of points in parameter space for which\n",
    "        to calculate the squared exponential covariance\n",
    "        with points in X1\n",
    "    scale: float or array with length ndim\n",
    "        Squared exponential length scale \n",
    "    metric: callable\n",
    "        A function that computes distances between\n",
    "        two points.\n",
    "        \n",
    "    Returns\n",
    "    -------\n",
    "    K: matrix\n",
    "        The covariance matrix for points in X\n",
    "    \"\"\"\n",
    "    npoints1 = X1.shape[0]\n",
    "    npoints2 = X2.shape[0]\n",
    "    ndim = X1.shape[1]\n",
    "    if isinstance(scale,(float,int)):\n",
    "        inv_scale = (1./scale)*np.ones(ndim)\n",
    "        inv_scale = np.diag(inv_scale)\n",
    "    else:\n",
    "        inv_scale = 1./scale\n",
    "        inv_scale = np.diag(inv_scale)\n",
    "    if metric == None:\n",
    "        dist = lambda a,b: np.sqrt(np.dot(np.dot(a-b,inv_scale),a-b))\n",
    "    else:\n",
    "        dist = metric\n",
    "    K = np.empty([npoints1,npoints2])\n",
    "    for i in range(npoints1):\n",
    "        for j in range(npoints2):\n",
    "            try:\n",
    "                K[i,j] = (1.+np.sqrt(5)*dist(X1[i,:],X2[j,:])+\n",
    "                          (5./3)*(dist(X1[i,:],X2[j,:]))**2.)*np.exp(-np.sqrt(5)*dist(X1[i,:],X2[j,:]))\n",
    "            except FloatingPointError:\n",
    "                K[i,j]=0.\n",
    "    return K\n"
   ]
  },
  {
   "cell_type": "markdown",
   "metadata": {},
   "source": [
    "$\\textbf{Exercise: }$ Using the above Matern 5/2 and 3/2 examples as a template write a python method for the general Matern kernel. Can you think of some real world examples where you might a priori know to use each of these kernels?\n"
   ]
  },
  {
   "cell_type": "markdown",
   "metadata": {},
   "source": [
    "Add here ?\n",
    "\n",
    "Plot of the covariance function.\n",
    "\n",
    "Plot showing some random draws from the prior."
   ]
  },
  {
   "cell_type": "markdown",
   "metadata": {},
   "source": [
    "### 3.3.3 Wendland Polynomial Covariance\n",
    "\n",
    "It is possible to write kernels that are positive semi-definite and that have *compact support*.  Compact support just means that the kernel falls to exactly zero outside some radius.  The advantage of using compact support kernels is that some (hopefully many!) elements of the covariance matrix go to zero, allowing faster matrix inversion.  Writing such kernels is not trivial, but one class of examples was put forward by [Wendland (1995)](https://link.springer.com/article/10.1007/BF02123482).  Rasmussen and Williams offer the following examples of some of these polynomials $k_{D,q}$, which work up to dimension D and are q-times mean-square differentiable:\n",
    "\n",
    "$$\n",
    "\\begin{align}\n",
    "k_{D,0}(r) =& (1-r)_+^j \\\\\n",
    "k_{D,1}(r) =& (1-r)_+^{j+1} \\left((j+1)r + 1\\right) \\\\\n",
    "k_{D,2}(r) =& (1-r)_+^{j+2}\\left((j^2+4j+3)r^2 + (3j+6)r + 3\\right)/3 \\\\\n",
    "k_{D,3}(r) =& (1-r)_+^{j+3} \\\\\n",
    "& \\times \\left((j^3 + 9j^2 + 23j + 15)r^3 + (6j^2 + 36j + 45)r^2 + (15j + 45)r + 15\\right)/15\n",
    "\\end{align}\n",
    "$$\n",
    "\n",
    "In these expressions, $j=\\left \\lfloor{\\frac{D}{2}}\\right \\rfloor + q + 1$ and the notation $\\left[x\\right]_{+}=\\mathrm{max}(0,x)$ has been used.\n",
    "Below is a Python method to construct covariance matrices from these polynomials"
   ]
  },
  {
   "cell_type": "code",
   "execution_count": 9,
   "metadata": {
    "collapsed": true
   },
   "outputs": [],
   "source": [
    "def WPolyq(r,j,q):\n",
    "    \"\"\"\n",
    "    Wendland polynomial calculator\n",
    "    \n",
    "    Parameters\n",
    "    ----------\n",
    "    r: float\n",
    "        distance\n",
    "    j: int\n",
    "        j = floor(D/2) + q + 1\n",
    "    q: int\n",
    "        number of times resulting\n",
    "        distributions are \n",
    "        mean-square differentiable\n",
    "        \n",
    "    Returns\n",
    "    -------\n",
    "    res: float\n",
    "        value of Wendland polynomial\n",
    "    \"\"\"\n",
    "    \n",
    "    if r > 1:\n",
    "        res = 0\n",
    "    elif q==0:\n",
    "        res = (1.-r)**j\n",
    "    elif q==1:\n",
    "        res = ((1.-r)**(j+1)) * ((j+1)*r + 1)\n",
    "    elif q==2:\n",
    "        res = ((1.-r)**(j+2)) * ((j**2 + 4*j + 3) * (r**2)\n",
    "                                + (3*j+6) * r\n",
    "                                + 3\n",
    "                                )/3\n",
    "    elif q==3:\n",
    "        res = (((1.-r)**(j+3)) \n",
    "           * ((j**3 + 9*(j**2) + 23*j + 15) * (r**3)\n",
    "             + (6*(j**2) + 36*j + 45) * (r**2)\n",
    "             + (15*j + 45) * r\n",
    "             + 15\n",
    "             )/15\n",
    "          ) \n",
    "    return res\n",
    "\n",
    "\n",
    "def WendlandPolynomialKernel( X1 , X2 , scale=1.0 , metric=None , D=None, q=0):\n",
    "    \"\"\"\n",
    "    Computes Wendland Polynomial\n",
    "    covariance matrices\n",
    "    \n",
    "    Parameters\n",
    "    ----------\n",
    "    X1: array, shape = (npoints,ndim)\n",
    "        Array of points in parameter space for which\n",
    "        to calculate the squared exponential covariance\n",
    "        with points in X2\n",
    "    X2: array, shape = (npoints,ndim)\n",
    "        Array of points in parameter space for which\n",
    "        to calculate the squared exponential covariance\n",
    "        with points in X1\n",
    "    scale: float or array with length ndim\n",
    "        Squared exponential length scale \n",
    "    metric: callable\n",
    "        A function that computes distances between\n",
    "        two points.\n",
    "    D: integers 0 to 3\n",
    "        Max number of dimensions for which the \n",
    "        covariance is positive-semi-definite.\n",
    "        Defaults number of input dimensions in X1\n",
    "    q: integer\n",
    "        Resulting distributions are q-times \n",
    "        mean-square differentiable\n",
    "        \n",
    "    Returns\n",
    "    -------\n",
    "    K: matrix\n",
    "        The covariance matrix for points in X1 and X2\n",
    "    \"\"\"\n",
    "    npoints1 = X1.shape[0]\n",
    "    npoints2 = X2.shape[0]\n",
    "    ndim = X1.shape[1]\n",
    "    \n",
    "    if D==None:\n",
    "        D = ndim\n",
    "    \n",
    "    # define j as in R&W\n",
    "    j = np.floor(D/2.)+q+1\n",
    "    \n",
    "    if isinstance(scale,(float,int)):\n",
    "        inv_scale = (1./scale)*np.ones(ndim)\n",
    "        inv_scale = np.diag(inv_scale)\n",
    "    else:\n",
    "        inv_scale = 1./scale\n",
    "        inv_scale = np.diag(inv_scale)\n",
    "    if metric == None:\n",
    "        dist = lambda a,b: np.sqrt(np.dot(np.dot(a-b,inv_scale),a-b))\n",
    "    else:\n",
    "        dist = metric\n",
    "    K = np.empty([npoints1,npoints2])\n",
    "\n",
    "    for i in range(npoints1):\n",
    "        for p in range(npoints2):\n",
    "            K[i,p] = WPolyq(dist(X1[i,:],X2[p,:]),j,q)\n",
    "    return K\n"
   ]
  },
  {
   "cell_type": "markdown",
   "metadata": {},
   "source": [
    "Add here ?\n",
    "\n",
    "Plot of the covariance function.\n",
    "\n",
    "Plot showing some random draws from the prior."
   ]
  },
  {
   "cell_type": "markdown",
   "metadata": {},
   "source": [
    "## 3.4 Building New Covariance Functions From Old Ones\n",
    "\n",
    "Given one or more \"seed\" covariance functions there are several useful ways to construct new covariance functions. \n",
    "\n",
    "$\\textbf{Summation: }$ For any two covariance functions, $k_{1}(x,x')$ and $k_{2}(x,x')$, the sum $k(x,x')=k_{1}(x,x')+k_{2}(x,x')$ is a new covariance function.\n",
    "\n",
    "$\\textbf{Product: }$ For any two covariance functions, $k_{1}(x,x')$ and $k_{2}(x,x')$, the product $k(x,x')=k_{1}(x,x')\\times k_{2}(x,x')$ is a new covariance function.\n",
    "\n",
    "$\\textbf{Warping: }$ For any covariance function $k(x,x')$, and any \"warping\" function $u:\\mathcal{S}\\rightarrow\\mathcal{S}$, the function $k(\\,u(x)\\,,\\,u(x')\\,)$ is a new covariance function.\n",
    "\n",
    "$\\textbf{Renormalisation: }$ For any covariance function $k(x,x')$, and any function $\\alpha:\\mathcal{S}\\rightarrow\\mathbb{R}$, the combination $\\alpha(x)k(x,x')\\alpha(x')$ is a new covariance function.\n",
    "\n",
    "$$\\phantom{.}$$\n",
    "\n",
    "$\\textbf{Exercise: }$ Prove that all of the above procedures do indeed generate new symmetric positive semi-definite covariance functions.\n"
   ]
  },
  {
   "cell_type": "markdown",
   "metadata": {},
   "source": [
    "## 3.5 Mean Square Continuity and Differentiability\n",
    "\n",
    "In this section it will be shown how certain properties of the covariance function are responsible for governing the continuity and differentiability of the Gaussian process (GP). \n",
    "\n",
    "Here, the notion $\\textbf{mean square continuity}$ is used (defined below in equation (3.1)); other defintions of GP continuity exists, but the notion used here relates can be most easily related to the covariance function. For more mathematical details on the topics discussed in this section see [ADLER].\n",
    "\n",
    "$$\\phantom{.}$$\n",
    "\n",
    "Consider a Gaussian process, $f$, on the set $\\mathcal{S}=\\mathbb{R}^{n}$;\n",
    "\n",
    "$$f(x) \\sim \\mathcal{GP}( \\, \\mu(x) \\, , \\, k(x,x') \\, ) \\,. $$\n",
    "\n",
    "The smoothness and differentiability properties of $f$ at some particular point $x_{*}\\in\\mathbb{R}^{n}$ will be considered.\n",
    "Let $x_{1},x_{2},x_{3}\\ldots\\in\\mathbb{R}^{n}$ be a sequence of points which converge to $x_{*}$ in the sense that $\\lim_{\\ell\\rightarrow\\infty}\\left|x_{\\ell}-x_{*}\\right|=0$, where $|\\cdot|$ denotes the usual Euclidean norm.\n",
    "\n",
    "The process $f(x)$ is said to be mean square continuous at $x_{*}$ if\n",
    "\n",
    "$$\\lim_{\\ell\\rightarrow\\infty}\\,\\mathrm{E}\\Big[\\big(f(x_{*})-f(x_{\\ell})\\big)^{2}\\Big]=0 \\, , \\hspace{2cm} \\textrm{(3.1)}$$ \n",
    "\n",
    "and the mean square limit, if it exists, is denoted as\n",
    "\n",
    "$$ f(x_{*}) = \\mathrm{l.i.m.}_{\\ell\\rightarrow\\infty}\\,f(x_{\\ell}) \\,, $$\n",
    "\n",
    "where $\\mathrm{l.i.m.}$ stands for limit in mean square.\n",
    "\n",
    "$$\\phantom{.}$$\n",
    "\n",
    "It should be noted that mean square continuity automatically implies continuity of the mean,\n",
    "\n",
    "$$ \\lim_{\\ell\\rightarrow\\infty}\\,\\mathrm{E}\\big[f(x_{\\ell})-f(x_{*})\\big] = 0 \\,.  \\hspace{2cm} \\textrm{(3.2)}$$\n",
    "\n",
    "$\\textbf{Exercise: }$ Prove the result for the continuity of the mean stated in equation (3.2).\n",
    "\n",
    "$\\textbf{Hint: }$ Consider the variance of the quantity $\\big(f(x_{\\ell})-f(x_{*})\\big)$.\n",
    "\n",
    "\n",
    "$$\\phantom{.}$$\n",
    "\n",
    "It will now be shown how the mean square continuity of the GP can be related to properties of the covariance function.\n",
    "\n",
    "$\\textbf{Lemma: }$ If the random process $f$ is continuous in mean square at $x_{∗}$ then covariance function $k(x,x′)$ is continuous in the usual sense at the point $x=x′=x_{∗}$. \n",
    "\n",
    "$\\textbf{Proof: }$ The mean and covariance of the process $f$ are, by definition, given by\n",
    "\n",
    "$$ \\mu(x) = \\mathrm{E}\\big[f(x)\\big] \\,, $$\n",
    "$$ k(x,x') = \\mathrm{E}\\Big[\\big(f(x)-\\mu(x)\\big)\\big(f(x')-\\mu(x')\\big)\\Big] \\,. $$\n",
    "\n",
    "The condition for mean square continuity is given in equation (3.1), this may be rewritten as\n",
    "\n",
    "$$ \\lim_{\\ell\\rightarrow\\infty}\\,\\Big( k(x_{*},x_{*})-2k(x_{\\ell},x_{*})+k(x_{\\ell},x_{\\ell}) + \\big(\\mu(x_{*})-\\mu(x_{\\ell})\\big)^{2} \\Big) = 0 \\,. $$\n",
    "\n",
    "(It is relativiely easy to check this by using the defitions for $\\mu(x)$ and $k(x,x')$ and expanding everything out.)\n",
    "\n",
    "If the process $f$ is mean square continous then it is also continuous in the mean; using the continuity of the mean gives\n",
    "\n",
    "$$ \\lim_{\\ell\\rightarrow\\infty}\\, \\big( k(x_{*},x_{*}) -2k(x_{*},x_{\\ell}) + k(x_{\\ell},x_{\\ell})\\big) = 0 \\,. $$\n",
    "\n",
    "This is satisfied if the covariance function is continuous in the usual sense at the point $x=x'=x_{*}$.\n",
    "\n",
    "$\\textbf{Comments: }$ In fact, a GP is continuous in mean square if $\\textbf{and only if}$ the covariance function is continuous at $x=x′=x_{∗}$, although this is not proved here.\n",
    "For a stationary covariance function (i.e. $k(x,x')=k(\\tau)$, where $\\tau=x-x'$) checking if this condition holds reduces to simply checking the continuity of $k(\\tau)$ at the point $\\tau=0$.\n",
    "\n",
    "$$\\phantom{.}$$\n",
    "\n",
    "We now move on from considering continuity to consider differentiability. \n",
    "In the spirit of the above the notion of taking the mean square derivative of a GP is defined as\n",
    "\n",
    "$$ \\frac{D f(x)}{D x^{i}} = \\mathrm{l.i.m.}_{\\epsilon\\rightarrow 0} \\frac{f(x_{*}+\\epsilon \\mathbf{e}_{i})-f(x_{*})}{\\epsilon} $$\n",
    "\n",
    "where $\\mathbf{e}_{i}$ is the unit vector in the $i$-direction, and the $\\textrm{l.i.m.}$ is the limit in mean square. \n",
    "This definition can be easily extended to higher-order derivatives. \n",
    "The mean square derivative of a GP is also a GP; this is a consequence of the fact that the sum of two Gaussian random variables is also distributed as a Gaussian random variable.\n",
    "\n",
    "$\\textbf{Lemma: }$ The covariance function of the GP $\\frac{D f(x)}{D x_{i}}$ is given by $\\frac{\\partial^{2}k(x,x′)}{\\partial x_{i1}\\partial x′_{i1}\\partial x_{i2}\\partial x′_{i2}\\ldots \\partial x_{in}\\partial x′_{in}}$. \n",
    "\n",
    "$\\textbf{Proof: }$\n",
    "\n",
    "$\\textbf{Comments: }$ By extension, the covariance function of the GP $\\frac{D^{n} f(x)}{D x_{i1} D x_{i1} \\ldots D x_{in}}$ is given by $\\frac{\\partial^{2n}k(x,x′)}{\\partial x_{i}\\partial x′_{i}}$. \n",
    "From the above results relating the mean square continuity of GPs to the continuity of the covariance function at $x=x'=x_{*}$, it follows that the $n^{\\mathrm{th}}$ mean square derivative of the GP is mean square continuous (i.e. the GP is $n$-times mean square differentiable) if the $2n^{\\mathrm{th}}$ regular derivative of the covariance function is continuous at $x=x'=x_{*}$. Notice that it is again the smoothness properties of the covariance function along the diagonal points that determines the differentiability of the GP. It can also be shown that if a covariance function is continuous at all diagonal points $x=x'$ then it’s everywhere continuous. (For a stationary GP it is sufficient to check the continuity of $k(\\tau)$ at $\\tau=0$.)\n",
    "\n",
    "$$\\phantom{.}$$\n",
    "\n",
    "$\\textbf{Exercise: }$ Use these results to establish the level of mean square differentiability of GPs with the squared exponential Matern kernels. Go back to section (?) and rerun the code cells to generate more realisations of the Matern GP with different values of $\\nu$ and observe the smoothness properties. "
   ]
  },
  {
   "cell_type": "markdown",
   "metadata": {},
   "source": [
    "# 4 Gaussian Processes Regression\n",
    "\n"
   ]
  },
  {
   "cell_type": "markdown",
   "metadata": {},
   "source": [
    "## 4.1 Regression with Gaussian Processes\n",
    "\n",
    "In the examples presented thus far, random samples have been generated from some covariance matrices that describes the full joint distribution on function values.  In Gaussian process regression, one is interested in the _conditional_ distributions of function values.  We seek to infer possible (unknown) function values conditioned on some known values of the function. We can write the joint probability distribution of unknown function values ${\\bf f}_*$ at some target points $X_*$ and the known values ${\\bf f}$ at some sample points $X$ as:\n",
    "\n",
    "$$p([{\\bf f}, {\\bf f}_*]) = \\frac{1}{(2\\pi)^{n/2}|K|^{1/2}}\\exp\\left(-\\frac{1}{2}[{\\bf f}, {\\bf f}_*]^\\top K^{-1}[{\\bf f}, {\\bf f}_*]\\right) \\hspace{2cm} \\textrm{(4.1)}$$\n",
    "\n",
    "Let's define:\n",
    "$$\\Gamma = K^{-1} = \n",
    "\\begin{pmatrix} \n",
    "\\Gamma_{XX} & \\Gamma_{XX_*}  \\\\ \n",
    "\\Gamma_{XX_*} & \\Gamma_{X_*X_*}  \\\\\n",
    "\\end{pmatrix}, \n",
    "K=\n",
    "\\begin{pmatrix} \n",
    "K_{XX} & K_{XX_*}  \\\\ \n",
    "K_{X_*X} & K_{X_*X_*}  \\\\\n",
    "\\end{pmatrix}$$\n",
    "\n",
    "If we condition on known ${\\bf f}$, then all terms with only ${\\bf f}$'s become constants and can be ignored:\n",
    "\n",
    "$$\n",
    "\\begin{align}\n",
    "p({\\bf f}_*|{\\bf f}) & \\propto \\exp\\left(-\\frac{1}{2} {\\bf f_*}^\\top\\Gamma_{X_*X_*}{\\bf f_*} - {\\bf f}^\\top\\Gamma_{XX_*}{\\bf f_*}\\right) \\hspace{2cm} \\textrm{(4.2)}\\\\\n",
    "& \n",
    "\\end{align}\n",
    "$$ \n",
    "\n",
    "The relations between the submatrices of $\\Gamma$ and $K$ are:\n",
    "\n",
    "$$\\Gamma_{XX_*} = -K_{XX}^{-1}K_{XX_*}\\left(K_{X_*X_*}-K_{X_*X}K_{XX}^{-1}K_{XX_*}\\right)^{-1}$$\n",
    "$$\\Gamma_{X_*X_*} = \\left(K_{X_*X_*}-K_{X_*X}K_{XX}^{-1}K_{XX_*}\\right)^{-1}$$\n",
    "\n",
    "The $K$ matrices are the covariances between test and/or input values of $f(x)$.  Substituting those into Equation (4.2) yields:\n",
    "\n",
    "$$p({\\bf f}_*|{\\bf f})  \\propto \\exp\\left(-\\frac{1}{2} {\\bf f_*}^\\top\\left(K_{X_*X_*}-K_{X_*X}K_{XX}^{-1}K_{XX_*}\\right)^{-1}{\\bf f_*} - {\\bf f}^\\top\\left(-K_{XX}^{-1}K_{XX_*}\\left(K_{X_*X_*}-K_{X_*X}K_{XX}^{-1}K_{XX_*}\\right)^{-1}\\right){\\bf f_*}\\right)$$\n",
    "\n",
    "We can complete the square by adding this term in the exponential:\n",
    "\n",
    "$$-\\frac{1}{2}{\\bf f}^\\top\\left(K_{XX}^{-1}K_{XX_*}\\left(K_{X_*X_*}-K_{X_*X}K_{XX}^{-1}K_{XX_*}\\right)^{-1}K_{X_*X}K_{XX}^{-1}\\right){\\bf f}$$\n",
    "\n",
    "Notice that this term is independent of ${\\bf f}_*$, so adding it in the exponential only affects the normalization.  After completing the square, we get \n",
    "\n",
    "$$p({\\bf f}_*|{\\bf f})  \\propto \\exp\\left(-\\frac{1}{2}({\\bf f}_* - K_{X_*X}K_{XX}^{-1}{\\bf f})^\\top\\left(K_{X_*X_*}-K_{X_*X}K_{XX}^{-1}K_{XX_*}\\right)^{-1}({\\bf f}_* - K_{X_*X}K_{XX}^{-1}{\\bf f})\\right)$$\n",
    "\n",
    "We see that this is now a multivariate Gaussian with mean $K_{X_*X}K_{XX}^{-1}{\\bf f}$ and covariance $K_{X_*X_*}-K_{X_*X}K_{XX}^{-1}K_{XX_*}$.  This result is the workhorse of Gaussian process regression, and we summarize it here:\n",
    "\n",
    "$$ p({\\bf f}_*|{\\bf f}) \\sim \\mathcal{N}\\left(K_{X_*X}K_{XX}^{-1}{\\bf f}, \\hspace{0.2cm} K_{X_*X_*}-K_{X_*X}K_{XX}^{-1}K_{XX_*}\\right) \\hspace{2cm} \\textrm{(4.3)}$$\n",
    "\n",
    "Let's take a second to digest this equation.  First, we can see that the mean values of ${\\bf f}_*$ are generated by a linear transformation of the input values ${\\bf f}$. Second, the variance of the conditional distribution is independent of ${\\bf f}$ -- it only depends on the $K$ matrices, which are constructed only from $X$, $X_*$ and the kernel.  Therefore, local behavior of the values of ${\\bf f}$ does not affect the predicted conditional variances. Also note that the first term of the conditional covariance is simply the prior covariance $K_{X_*X_*}$ and from it is subtracted $K_{X_*X}K_{XX}^{-1}K_{XX_*}$.  This second term is large when values of $K_{X_*X}$ and $K_{XX_*}$ are large and/or $K_{XX}$ values are small. Thus if a kernel such as the squared-exponential is used, where the covariance falls off with the distance between parameter values, ${\\bf f}_*$ will be distributed like the prior if $X_*$ are \"far away\" from $X$ since the second term will go to zero.   "
   ]
  },
  {
   "cell_type": "markdown",
   "metadata": {},
   "source": [
    "## 4.2 Computing a GPR\n",
    "\n",
    "Now that we have Equation 4.3, let's perform some regression!  To do this, we'll need to choose on of the covariance functions described in section 3.3 and we'll require a bit more machinery in terms of practically performing the matrix operations required on a computer. \n"
   ]
  },
  {
   "cell_type": "markdown",
   "metadata": {},
   "source": [
    "Now let's condition the GP we created with our squared-exponential kernel.  To do this, we need to take the inverse of $K_{XX}$.  We will effectively do this via the Cholesky decomposition, which decomposes a matrix $K$ as $K=LL^\\top$, where $L$ and $L^\\top$ are lower and upper triangular matrices, respectively. Rather than directly find the inverse of $K$, we can solve for the vector ${\\bf x}$ which fulfills the equation:\n",
    "$$ {\\bf y} = K{\\bf x} = LL^\\top{\\bf x}$$\n",
    "We write the solution as ${\\bf x} = K\\setminus {\\bf y}$.  Substituting in the triangular matrices, we have ${\\bf x} = L^\\top\\setminus (L \\setminus {\\bf y})$.  To solve for ${\\bf b} = L \\setminus {\\bf y}$, use forward substitution and for $x = L^\\top\\setminus {\\bf b}$ use backward substitution. With this inversion scheme in hand, we can write the numerical procedure algorithmically as (following Rasmussen and Williams Algorithm 2.1):\n",
    "\n",
    "1. $L := {\\rm Cholesky}(K)$\n",
    "2. ${\\bf \\alpha} := L^\\top \\setminus (L \\setminus {\\bf f})$\n",
    "3. ${\\bf \\bar{f}_*} := {\\bf k}_*^\\top {\\bf \\alpha}$\n",
    "4. ${\\bf v} := L \\setminus {\\bf k}_*$\n",
    "5. $\\mathbb{V} := {\\bf k}_* - {\\bf v}^\\top {\\bf v}$\n",
    "6. $\\log p({\\bf f}|X) := -\\frac{1}{2}{\\bf f }^\\top {\\bf \\alpha} - \\sum_i L_{ii} - \\frac{n}{2}\\log(2\\pi)$\n",
    "\n",
    "Here, ${\\bf k}_*:= k({\\bf x_*},X)$ is the kernel function $k$ evaluated at the test point ${\\bf x_*}$ and the set of input points $X$. If one is only interested in the mean ${\\bf \\bar{f}_*}$, then one only need save out ${\\bf \\alpha}$ as the trained interpolator.  If variances are desired (which is typically the point of using GPR), $L$ must also be saved.  Line 6 of the algorithm computes the log marginal likelihood of values ${\\bf f}$ under the Gaussian process prior -- it will come in handy later.  In the cell below, we follow the algorithm above to condition a GP on a few known values of the sine function.  \n"
   ]
  },
  {
   "cell_type": "code",
   "execution_count": 10,
   "metadata": {},
   "outputs": [
    {
     "name": "stdout",
     "output_type": "stream",
     "text": [
      "The log likelihood is -23.509304196808344\n"
     ]
    },
    {
     "data": {
      "image/png": "[encoded data removed]",
      "text/plain": [
       "<matplotlib.figure.Figure at 0x1813f57470>"
      ]
     },
     "metadata": {},
     "output_type": "display_data"
    }
   ],
   "source": [
    "# The training points and training values\n",
    "X = np.linspace(1,10,20).reshape(-1,1)\n",
    "ferr = 1e-1\n",
    "f = np.sin(4.*X)#+np.random.normal(0.,ferr,size=X.shape)\n",
    "\n",
    "# The test points and real values of f at test points\n",
    "Xstar = np.linspace(0,11,300).reshape(-1,1)\n",
    "fstar = np.sin(4.*Xstar)\n",
    "\n",
    "# Choose a kernel, nugget, and compute covariance matrices\n",
    "length_scale = .05\n",
    "cov_scale = 1.\n",
    "KXX = cov_scale*squared_exponential_kernel(X,X,scale=length_scale,metric=None)\n",
    "KXXstar = cov_scale*squared_exponential_kernel(Xstar,X,scale=length_scale,metric=None)\n",
    "\n",
    "nugget_val = 1e-2\n",
    "nugget = np.diag((nugget_val**2)*np.ones(X.shape[0]))\n",
    "\n",
    "# Steps 1-2\n",
    "L = LA.cholesky(KXX+nugget,lower=True)\n",
    "alpha = LA.cho_solve((L,True), f)\n",
    "\n",
    "# Steps 3-5\n",
    "fstar_bar = np.dot(KXXstar,alpha)\n",
    "variances = []\n",
    "for i in range(KXXstar.shape[0]):\n",
    "    v = LA.solve_triangular(L,KXXstar[i,:],lower=True)\n",
    "    variances.append(cov_scale-np.dot(v.T,v))\n",
    "stds = np.sqrt(variances)\n",
    "\n",
    "# Step 6\n",
    "lml = -(1./2.)*np.dot(f.T,alpha) - np.sum(np.log(np.diag(L))) - (X.shape[0]/2.)*np.log(2*np.pi)\n",
    "lml = lml.flatten()[0]\n",
    "print ( \"The log likelihood is\" , lml )\n",
    "\n",
    "plt.plot(X,f,'ro')\n",
    "plt.plot(Xstar,fstar_bar,label='GP mean')\n",
    "plt.plot(Xstar,fstar,label='sin(4x)')\n",
    "\n",
    "Xstar_flat,fstar_bar_flat=Xstar.flatten(),fstar_bar.flatten()\n",
    "plt.fill_between(Xstar_flat,fstar_bar_flat-stds,fstar_bar_flat+stds,alpha=0.5,color='gray')\n",
    "plt.ylim([-5,5])\n",
    "plt.xlabel('x')\n",
    "plt.ylabel('f')\n",
    "plt.legend()\n",
    "plt.show()"
   ]
  },
  {
   "cell_type": "markdown",
   "metadata": {},
   "source": [
    "## 4.3 Choosing the Kernel and Hyperparameters:\n",
    "\n",
    "The kernel and it's associated hyperparameters are the bedrock of the Gaussian process regression and determine the overall morphology of the interpolations.  In most cases of interpolating smooth functions, the squared-exponential will suffice, and in simple cases one can even hand tune the hyperparameters.  In the machine-learning context though, one is more interested in fitting the hyperparameters to maximize some objective function of the observed data.  The squared-exponential kernel may not be right for all cases, either, as we shall see.  \n",
    "\n",
    "The most natural objective function for deciding on kernel and/or hyperparameter choice is the log marginal likelihood, i.e. the probability of the observed data given the kernel/hyperparameter choice $p(f|k,\\theta)$.  I call this the \"hyperlikelihood\". Let's perform the same interpolation as above but choose hyperparameters that maximize this.  One can also optionally introduce a \"hyperprior\" $p(\\theta)$, ie. a prior distribution on hyperparameter values. This can be helpful if the marginal likelihood is not well behaved or has many local minima.  The \"hyperposterior\" $p(\\theta|f)$ is given by:\n",
    "\n",
    "$$ p(\\theta,k|f) \\propto p(f|k,\\theta)p(\\theta,k) $$"
   ]
  },
  {
   "cell_type": "code",
   "execution_count": 11,
   "metadata": {
    "collapsed": true
   },
   "outputs": [],
   "source": [
    "# set underflow errors to be ignored rather than warning\n",
    "np.seterr(divide='raise',under='ignore',over='raise')\n",
    "\n",
    "def log_marginal_likelihood(theta,X,f,sign=1,cholesky=True,kernel='SE'):\n",
    "    \"\"\"\n",
    "    Compute the log_marginal_likelihood of data f\n",
    "    at points X under GP given by covariance K\n",
    "    \n",
    "    Parameters\n",
    "    ----------\n",
    "    theta: array\n",
    "        array of hyperparameters 10**[nugget_val,cov_scale,length_scale]\n",
    "    X: array\n",
    "        array of GP input points\n",
    "    f: array\n",
    "        array of data at X\n",
    "    sign: float\n",
    "        A multiplier that is meant to be 1 or -1 \n",
    "        depending on if one wants the negative or \n",
    "        positive log marginal likelihood\n",
    "    cholesky: bool\n",
    "        Whether to use cholesky or \n",
    "        direct matrix inversion\n",
    "    kernel: str\n",
    "        SE, Matern32, or Matern52\n",
    "    \n",
    "    Returns\n",
    "    -------\n",
    "    lml: float\n",
    "        log marginal likelihood of data f\n",
    "    \"\"\"\n",
    "    \n",
    "    try:\n",
    "        cov_scale = 10.**theta[0]\n",
    "        length_scale = 10.**theta[1]\n",
    "    except FloatingPointError:\n",
    "        return -np.inf*sign\n",
    "    try:\n",
    "        if kernel == 'SE':\n",
    "            K = cov_scale*squared_exponential_kernel(X,X,scale=length_scale,metric=None)\n",
    "        elif kernel == 'Matern32':\n",
    "            K = cov_scale*Matern32(X,X,scale=length_scale,metric=None)\n",
    "        elif kernel == 'Matern52':\n",
    "            K = cov_scale*Matern52(X,X,scale=length_scale,metric=None)\n",
    "        if np.any(np.isnan(K)):\n",
    "            return -np.inf*sign\n",
    "        nugget = np.diag((10.**theta[2])*np.ones(X.shape[0]))\n",
    "        if cholesky:\n",
    "            L = LA.cholesky(K+nugget,lower=True)\n",
    "            alpha = LA.cho_solve((L,True), f)\n",
    "            lml = -(1./2.)*np.dot(f.T,alpha) - np.sum(np.log(np.diag(L))) - (X.shape[0]/2.)*np.log(2*np.pi)\n",
    "            lml = lml.flatten()[0]\n",
    "        else:\n",
    "            Kinv = LA.inv(KXX+nugget)\n",
    "            alpha = np.dot(Kinv,f)\n",
    "            # Steps 3-5\n",
    "            variances = []\n",
    "            for i in range(KXXstar.shape[0]):\n",
    "                v = np.dot(KXXstar[i,:].T,np.dot(Kinv,KXXstar[i,:]))\n",
    "                variances.append(v)\n",
    "            stds = np.sqrt(variances)\n",
    "            # Step 6\n",
    "            lml = -(1./2.)*np.dot(f.T,alpha) - 0.5*np.log(np.linalg.det(Kinv)) - (X.shape[0]/2.)*np.log(2*np.pi)\n",
    "            lml = lml.flatten()[0]\n",
    "    except FloatingPointError:\n",
    "        return -np.inf*sign\n",
    "    return lml*sign\n",
    "\n",
    "        \n",
    "from scipy.stats import norm\n",
    "def log_hyperprior(theta,theta_means,theta_widths,prior_type='normal'):\n",
    "    \"\"\"\n",
    "    The log hyperprior\n",
    "    \n",
    "    Parameters\n",
    "    ----------\n",
    "    theta: array\n",
    "        array of parameter values\n",
    "    theta_means: array\n",
    "        array of mean values of theta\n",
    "    theta_widths: array\n",
    "        gaussian widths of theta values\n",
    "    prior_type: string\n",
    "        either normal or box\n",
    "    \n",
    "    Returns\n",
    "    -------\n",
    "    log_h: float\n",
    "        log hyperprior\n",
    "    \"\"\"\n",
    "    log_h = 0.\n",
    "    for i in range(len(theta)):\n",
    "        try:\n",
    "            if prior_type=='normal':\n",
    "                log_h = log_h + np.log(norm.pdf(theta[i], theta_means[i], theta_widths[i]))\n",
    "            else:\n",
    "                if ~((theta[i]>(theta_means[i]-theta_widths[i])) and \n",
    "                    (theta[i]<(theta_means[i]+theta_widths[i]))):\n",
    "                    log_h = -np.inf\n",
    "                else:\n",
    "                     pass                                                     \n",
    "        except:\n",
    "            -np.inf\n",
    "    return log_h\n",
    "\n",
    "def log_hyperposterior(theta,X,f,\n",
    "                       theta_means,theta_widths,\n",
    "                       sign=1,cholesky=True,\n",
    "                       kernel='SE',prior_type='normal'):\n",
    "    \"\"\"\n",
    "    The log hyperposterior\n",
    "    \n",
    "    Parameters\n",
    "    ----------\n",
    "    theta: array\n",
    "        array of hyperparameters\n",
    "    X: array\n",
    "        array of GP input points\n",
    "    f: array\n",
    "        array of data at X\n",
    "    theta_means: array\n",
    "        array of mean values of lognormal prior\n",
    "    theta_widths: array\n",
    "        widths of lognormal prior\n",
    "    sign: float\n",
    "        1 or -1 depending on if negative \n",
    "        log hyperposterior is wanted\n",
    "    cholesky: bool\n",
    "        Whether to use cholesky or \n",
    "        direct matrix inversion\n",
    "    kernel: str\n",
    "        SE, Matern32, or Matern52\n",
    "    prior_type: str\n",
    "        either normal or box\n",
    "    \n",
    "    Returns\n",
    "    -------\n",
    "    log_hyperposterior: float\n",
    "        the log hyperposterior\n",
    "    \"\"\"\n",
    "    hyperpos = (log_marginal_likelihood(theta,X,f,cholesky=cholesky,kernel=kernel)+\n",
    "                log_hyperprior(theta,theta_means,theta_widths,prior_type))\n",
    "    if np.isnan(hyperpos):\n",
    "        return -np.inf*sign\n",
    "    else:\n",
    "        return hyperpos*sign"
   ]
  },
  {
   "cell_type": "markdown",
   "metadata": {},
   "source": [
    "If you want a look at the hyperlikelihood or hyperposterior as a function of the hyperparameters, you can use an mcmc:"
   ]
  },
  {
   "cell_type": "code",
   "execution_count": 55,
   "metadata": {},
   "outputs": [
    {
     "name": "stdout",
     "output_type": "stream",
     "text": [
      "emcee: Exception while calling your likelihood function:\n",
      "  params: [ 1.97556541  0.5325469  -4.10748408]\n",
      "  args: (array([[0.07738852],\n",
      "       [0.        ],\n",
      "       [0.65670551],\n",
      "       [0.73473935],\n",
      "       [0.38545775],\n",
      "       [0.87334894],\n",
      "       [0.69353614],\n",
      "       [0.94967709],\n",
      "       [1.        ],\n",
      "       [0.23142627]]), array([[ 1.45367548],\n",
      "       [ 1.7922107 ],\n",
      "       [-0.38429308],\n",
      "       [-0.56486015],\n",
      "       [ 0.35887922],\n",
      "       [-0.87229813],\n",
      "       [-0.48272236],\n",
      "       [-1.03266968],\n",
      "       [-1.1297128 ],\n",
      "       [ 0.8617908 ]]), [0.0, 0.0, -3], [2.0, 3.0, 3.0], 1, True, 'SE', 'box')\n",
      "  kwargs: {}\n",
      "  exception:\n"
     ]
    },
    {
     "name": "stderr",
     "output_type": "stream",
     "text": [
      "Traceback (most recent call last):\n",
      "  File \"/Users/christophermoore/anaconda3/lib/python3.6/site-packages/emcee/ensemble.py\", line 519, in __call__\n",
      "    return self.f(x, *self.args, **self.kwargs)\n",
      "  File \"<ipython-input-11-d421bb586246>\", line 141, in log_hyperposterior\n",
      "    hyperpos = (log_marginal_likelihood(theta,X,f,cholesky=cholesky,kernel=kernel)+\n",
      "  File \"<ipython-input-11-d421bb586246>\", line 40, in log_marginal_likelihood\n",
      "    K = cov_scale*squared_exponential_kernel(X,X,scale=length_scale,metric=None)\n",
      "  File \"<ipython-input-6-3d001eb42d51>\", line 43, in squared_exponential_kernel\n",
      "    K[i,j] = np.exp(-0.5*(dist(X1[i,:],X2[j,:])**2))\n",
      "  File \"<ipython-input-6-3d001eb42d51>\", line 36, in <lambda>\n",
      "    dist = lambda a,b: np.sqrt(np.dot(np.dot(a-b,inv_scale),a-b))\n",
      "KeyboardInterrupt\n"
     ]
    },
    {
     "ename": "KeyboardInterrupt",
     "evalue": "",
     "output_type": "error",
     "traceback": [
      "\u001b[0;31m---------------------------------------------------------------------------\u001b[0m",
      "\u001b[0;31mKeyboardInterrupt\u001b[0m                         Traceback (most recent call last)",
      "\u001b[0;32m<ipython-input-55-78dc58b19b02>\u001b[0m in \u001b[0;36m<module>\u001b[0;34m()\u001b[0m\n\u001b[1;32m     14\u001b[0m \u001b[0;34m\u001b[0m\u001b[0m\n\u001b[1;32m     15\u001b[0m \u001b[0;31m# run mcmc\u001b[0m\u001b[0;34m\u001b[0m\u001b[0;34m\u001b[0m\u001b[0m\n\u001b[0;32m---> 16\u001b[0;31m \u001b[0msampler\u001b[0m\u001b[0;34m.\u001b[0m\u001b[0mrun_mcmc\u001b[0m\u001b[0;34m(\u001b[0m\u001b[0mpos\u001b[0m\u001b[0;34m,\u001b[0m \u001b[0;36m500\u001b[0m\u001b[0;34m)\u001b[0m\u001b[0;34m;\u001b[0m\u001b[0;34m\u001b[0m\u001b[0m\n\u001b[0m\u001b[1;32m     17\u001b[0m \u001b[0;34m\u001b[0m\u001b[0m\n\u001b[1;32m     18\u001b[0m \u001b[0;31m# plot samples\u001b[0m\u001b[0;34m\u001b[0m\u001b[0;34m\u001b[0m\u001b[0m\n",
      "\u001b[0;32m~/anaconda3/lib/python3.6/site-packages/emcee/sampler.py\u001b[0m in \u001b[0;36mrun_mcmc\u001b[0;34m(self, pos0, N, rstate0, lnprob0, **kwargs)\u001b[0m\n\u001b[1;32m    170\u001b[0m \u001b[0;34m\u001b[0m\u001b[0m\n\u001b[1;32m    171\u001b[0m         for results in self.sample(pos0, lnprob0, rstate0, iterations=N,\n\u001b[0;32m--> 172\u001b[0;31m                                    **kwargs):\n\u001b[0m\u001b[1;32m    173\u001b[0m             \u001b[0;32mpass\u001b[0m\u001b[0;34m\u001b[0m\u001b[0m\n\u001b[1;32m    174\u001b[0m \u001b[0;34m\u001b[0m\u001b[0m\n",
      "\u001b[0;32m~/anaconda3/lib/python3.6/site-packages/emcee/ensemble.py\u001b[0m in \u001b[0;36msample\u001b[0;34m(self, p0, lnprob0, rstate0, blobs0, iterations, thin, storechain, mh_proposal)\u001b[0m\n\u001b[1;32m    257\u001b[0m                 \u001b[0;32mfor\u001b[0m \u001b[0mS0\u001b[0m\u001b[0;34m,\u001b[0m \u001b[0mS1\u001b[0m \u001b[0;32min\u001b[0m \u001b[0;34m[\u001b[0m\u001b[0;34m(\u001b[0m\u001b[0mfirst\u001b[0m\u001b[0;34m,\u001b[0m \u001b[0msecond\u001b[0m\u001b[0;34m)\u001b[0m\u001b[0;34m,\u001b[0m \u001b[0;34m(\u001b[0m\u001b[0msecond\u001b[0m\u001b[0;34m,\u001b[0m \u001b[0mfirst\u001b[0m\u001b[0;34m)\u001b[0m\u001b[0;34m]\u001b[0m\u001b[0;34m:\u001b[0m\u001b[0;34m\u001b[0m\u001b[0m\n\u001b[1;32m    258\u001b[0m                     q, newlnp, acc, blob = self._propose_stretch(p[S0], p[S1],\n\u001b[0;32m--> 259\u001b[0;31m                                                                  lnprob[S0])\n\u001b[0m\u001b[1;32m    260\u001b[0m                     \u001b[0;32mif\u001b[0m \u001b[0mnp\u001b[0m\u001b[0;34m.\u001b[0m\u001b[0many\u001b[0m\u001b[0;34m(\u001b[0m\u001b[0macc\u001b[0m\u001b[0;34m)\u001b[0m\u001b[0;34m:\u001b[0m\u001b[0;34m\u001b[0m\u001b[0m\n\u001b[1;32m    261\u001b[0m                         \u001b[0;31m# Update the positions, log probabilities and\u001b[0m\u001b[0;34m\u001b[0m\u001b[0;34m\u001b[0m\u001b[0m\n",
      "\u001b[0;32m~/anaconda3/lib/python3.6/site-packages/emcee/ensemble.py\u001b[0m in \u001b[0;36m_propose_stretch\u001b[0;34m(self, p0, p1, lnprob0)\u001b[0m\n\u001b[1;32m    330\u001b[0m         \u001b[0;31m# Calculate the proposed positions and the log-probability there.\u001b[0m\u001b[0;34m\u001b[0m\u001b[0;34m\u001b[0m\u001b[0m\n\u001b[1;32m    331\u001b[0m         \u001b[0mq\u001b[0m \u001b[0;34m=\u001b[0m \u001b[0mc\u001b[0m\u001b[0;34m[\u001b[0m\u001b[0mrint\u001b[0m\u001b[0;34m]\u001b[0m \u001b[0;34m-\u001b[0m \u001b[0mzz\u001b[0m\u001b[0;34m[\u001b[0m\u001b[0;34m:\u001b[0m\u001b[0;34m,\u001b[0m \u001b[0mnp\u001b[0m\u001b[0;34m.\u001b[0m\u001b[0mnewaxis\u001b[0m\u001b[0;34m]\u001b[0m \u001b[0;34m*\u001b[0m \u001b[0;34m(\u001b[0m\u001b[0mc\u001b[0m\u001b[0;34m[\u001b[0m\u001b[0mrint\u001b[0m\u001b[0;34m]\u001b[0m \u001b[0;34m-\u001b[0m \u001b[0ms\u001b[0m\u001b[0;34m)\u001b[0m\u001b[0;34m\u001b[0m\u001b[0m\n\u001b[0;32m--> 332\u001b[0;31m         \u001b[0mnewlnprob\u001b[0m\u001b[0;34m,\u001b[0m \u001b[0mblob\u001b[0m \u001b[0;34m=\u001b[0m \u001b[0mself\u001b[0m\u001b[0;34m.\u001b[0m\u001b[0m_get_lnprob\u001b[0m\u001b[0;34m(\u001b[0m\u001b[0mq\u001b[0m\u001b[0;34m)\u001b[0m\u001b[0;34m\u001b[0m\u001b[0m\n\u001b[0m\u001b[1;32m    333\u001b[0m \u001b[0;34m\u001b[0m\u001b[0m\n\u001b[1;32m    334\u001b[0m         \u001b[0;31m# Decide whether or not the proposals should be accepted.\u001b[0m\u001b[0;34m\u001b[0m\u001b[0;34m\u001b[0m\u001b[0m\n",
      "\u001b[0;32m~/anaconda3/lib/python3.6/site-packages/emcee/ensemble.py\u001b[0m in \u001b[0;36m_get_lnprob\u001b[0;34m(self, pos)\u001b[0m\n\u001b[1;32m    380\u001b[0m \u001b[0;34m\u001b[0m\u001b[0m\n\u001b[1;32m    381\u001b[0m         \u001b[0;31m# Run the log-probability calculations (optionally in parallel).\u001b[0m\u001b[0;34m\u001b[0m\u001b[0;34m\u001b[0m\u001b[0m\n\u001b[0;32m--> 382\u001b[0;31m         \u001b[0mresults\u001b[0m \u001b[0;34m=\u001b[0m \u001b[0mlist\u001b[0m\u001b[0;34m(\u001b[0m\u001b[0mM\u001b[0m\u001b[0;34m(\u001b[0m\u001b[0mself\u001b[0m\u001b[0;34m.\u001b[0m\u001b[0mlnprobfn\u001b[0m\u001b[0;34m,\u001b[0m \u001b[0;34m[\u001b[0m\u001b[0mp\u001b[0m\u001b[0;34m[\u001b[0m\u001b[0mi\u001b[0m\u001b[0;34m]\u001b[0m \u001b[0;32mfor\u001b[0m \u001b[0mi\u001b[0m \u001b[0;32min\u001b[0m \u001b[0mrange\u001b[0m\u001b[0;34m(\u001b[0m\u001b[0mlen\u001b[0m\u001b[0;34m(\u001b[0m\u001b[0mp\u001b[0m\u001b[0;34m)\u001b[0m\u001b[0;34m)\u001b[0m\u001b[0;34m]\u001b[0m\u001b[0;34m)\u001b[0m\u001b[0;34m)\u001b[0m\u001b[0;34m\u001b[0m\u001b[0m\n\u001b[0m\u001b[1;32m    383\u001b[0m \u001b[0;34m\u001b[0m\u001b[0m\n\u001b[1;32m    384\u001b[0m         \u001b[0;32mtry\u001b[0m\u001b[0;34m:\u001b[0m\u001b[0;34m\u001b[0m\u001b[0m\n",
      "\u001b[0;32m~/anaconda3/lib/python3.6/site-packages/emcee/ensemble.py\u001b[0m in \u001b[0;36m__call__\u001b[0;34m(self, x)\u001b[0m\n\u001b[1;32m    517\u001b[0m     \u001b[0;32mdef\u001b[0m \u001b[0m__call__\u001b[0m\u001b[0;34m(\u001b[0m\u001b[0mself\u001b[0m\u001b[0;34m,\u001b[0m \u001b[0mx\u001b[0m\u001b[0;34m)\u001b[0m\u001b[0;34m:\u001b[0m\u001b[0;34m\u001b[0m\u001b[0m\n\u001b[1;32m    518\u001b[0m         \u001b[0;32mtry\u001b[0m\u001b[0;34m:\u001b[0m\u001b[0;34m\u001b[0m\u001b[0m\n\u001b[0;32m--> 519\u001b[0;31m             \u001b[0;32mreturn\u001b[0m \u001b[0mself\u001b[0m\u001b[0;34m.\u001b[0m\u001b[0mf\u001b[0m\u001b[0;34m(\u001b[0m\u001b[0mx\u001b[0m\u001b[0;34m,\u001b[0m \u001b[0;34m*\u001b[0m\u001b[0mself\u001b[0m\u001b[0;34m.\u001b[0m\u001b[0margs\u001b[0m\u001b[0;34m,\u001b[0m \u001b[0;34m**\u001b[0m\u001b[0mself\u001b[0m\u001b[0;34m.\u001b[0m\u001b[0mkwargs\u001b[0m\u001b[0;34m)\u001b[0m\u001b[0;34m\u001b[0m\u001b[0m\n\u001b[0m\u001b[1;32m    520\u001b[0m         \u001b[0;32mexcept\u001b[0m\u001b[0;34m:\u001b[0m\u001b[0;34m\u001b[0m\u001b[0m\n\u001b[1;32m    521\u001b[0m             \u001b[0;32mimport\u001b[0m \u001b[0mtraceback\u001b[0m\u001b[0;34m\u001b[0m\u001b[0m\n",
      "\u001b[0;32m<ipython-input-11-d421bb586246>\u001b[0m in \u001b[0;36mlog_hyperposterior\u001b[0;34m(theta, X, f, theta_means, theta_widths, sign, cholesky, kernel, prior_type)\u001b[0m\n\u001b[1;32m    139\u001b[0m         \u001b[0mthe\u001b[0m \u001b[0mlog\u001b[0m \u001b[0mhyperposterior\u001b[0m\u001b[0;34m\u001b[0m\u001b[0m\n\u001b[1;32m    140\u001b[0m     \"\"\"\n\u001b[0;32m--> 141\u001b[0;31m     hyperpos = (log_marginal_likelihood(theta,X,f,cholesky=cholesky,kernel=kernel)+\n\u001b[0m\u001b[1;32m    142\u001b[0m                 log_hyperprior(theta,theta_means,theta_widths,prior_type))\n\u001b[1;32m    143\u001b[0m     \u001b[0;32mif\u001b[0m \u001b[0mnp\u001b[0m\u001b[0;34m.\u001b[0m\u001b[0misnan\u001b[0m\u001b[0;34m(\u001b[0m\u001b[0mhyperpos\u001b[0m\u001b[0;34m)\u001b[0m\u001b[0;34m:\u001b[0m\u001b[0;34m\u001b[0m\u001b[0m\n",
      "\u001b[0;32m<ipython-input-11-d421bb586246>\u001b[0m in \u001b[0;36mlog_marginal_likelihood\u001b[0;34m(theta, X, f, sign, cholesky, kernel)\u001b[0m\n\u001b[1;32m     38\u001b[0m     \u001b[0;32mtry\u001b[0m\u001b[0;34m:\u001b[0m\u001b[0;34m\u001b[0m\u001b[0m\n\u001b[1;32m     39\u001b[0m         \u001b[0;32mif\u001b[0m \u001b[0mkernel\u001b[0m \u001b[0;34m==\u001b[0m \u001b[0;34m'SE'\u001b[0m\u001b[0;34m:\u001b[0m\u001b[0;34m\u001b[0m\u001b[0m\n\u001b[0;32m---> 40\u001b[0;31m             \u001b[0mK\u001b[0m \u001b[0;34m=\u001b[0m \u001b[0mcov_scale\u001b[0m\u001b[0;34m*\u001b[0m\u001b[0msquared_exponential_kernel\u001b[0m\u001b[0;34m(\u001b[0m\u001b[0mX\u001b[0m\u001b[0;34m,\u001b[0m\u001b[0mX\u001b[0m\u001b[0;34m,\u001b[0m\u001b[0mscale\u001b[0m\u001b[0;34m=\u001b[0m\u001b[0mlength_scale\u001b[0m\u001b[0;34m,\u001b[0m\u001b[0mmetric\u001b[0m\u001b[0;34m=\u001b[0m\u001b[0;32mNone\u001b[0m\u001b[0;34m)\u001b[0m\u001b[0;34m\u001b[0m\u001b[0m\n\u001b[0m\u001b[1;32m     41\u001b[0m         \u001b[0;32melif\u001b[0m \u001b[0mkernel\u001b[0m \u001b[0;34m==\u001b[0m \u001b[0;34m'Matern32'\u001b[0m\u001b[0;34m:\u001b[0m\u001b[0;34m\u001b[0m\u001b[0m\n\u001b[1;32m     42\u001b[0m             \u001b[0mK\u001b[0m \u001b[0;34m=\u001b[0m \u001b[0mcov_scale\u001b[0m\u001b[0;34m*\u001b[0m\u001b[0mMatern32\u001b[0m\u001b[0;34m(\u001b[0m\u001b[0mX\u001b[0m\u001b[0;34m,\u001b[0m\u001b[0mX\u001b[0m\u001b[0;34m,\u001b[0m\u001b[0mscale\u001b[0m\u001b[0;34m=\u001b[0m\u001b[0mlength_scale\u001b[0m\u001b[0;34m,\u001b[0m\u001b[0mmetric\u001b[0m\u001b[0;34m=\u001b[0m\u001b[0;32mNone\u001b[0m\u001b[0;34m)\u001b[0m\u001b[0;34m\u001b[0m\u001b[0m\n",
      "\u001b[0;32m<ipython-input-6-3d001eb42d51>\u001b[0m in \u001b[0;36msquared_exponential_kernel\u001b[0;34m(X1, X2, scale, metric)\u001b[0m\n\u001b[1;32m     41\u001b[0m         \u001b[0;32mfor\u001b[0m \u001b[0mj\u001b[0m \u001b[0;32min\u001b[0m \u001b[0mrange\u001b[0m\u001b[0;34m(\u001b[0m\u001b[0mnpoints2\u001b[0m\u001b[0;34m)\u001b[0m\u001b[0;34m:\u001b[0m\u001b[0;34m\u001b[0m\u001b[0m\n\u001b[1;32m     42\u001b[0m             \u001b[0;32mtry\u001b[0m\u001b[0;34m:\u001b[0m\u001b[0;34m\u001b[0m\u001b[0m\n\u001b[0;32m---> 43\u001b[0;31m                 \u001b[0mK\u001b[0m\u001b[0;34m[\u001b[0m\u001b[0mi\u001b[0m\u001b[0;34m,\u001b[0m\u001b[0mj\u001b[0m\u001b[0;34m]\u001b[0m \u001b[0;34m=\u001b[0m \u001b[0mnp\u001b[0m\u001b[0;34m.\u001b[0m\u001b[0mexp\u001b[0m\u001b[0;34m(\u001b[0m\u001b[0;34m-\u001b[0m\u001b[0;36m0.5\u001b[0m\u001b[0;34m*\u001b[0m\u001b[0;34m(\u001b[0m\u001b[0mdist\u001b[0m\u001b[0;34m(\u001b[0m\u001b[0mX1\u001b[0m\u001b[0;34m[\u001b[0m\u001b[0mi\u001b[0m\u001b[0;34m,\u001b[0m\u001b[0;34m:\u001b[0m\u001b[0;34m]\u001b[0m\u001b[0;34m,\u001b[0m\u001b[0mX2\u001b[0m\u001b[0;34m[\u001b[0m\u001b[0mj\u001b[0m\u001b[0;34m,\u001b[0m\u001b[0;34m:\u001b[0m\u001b[0;34m]\u001b[0m\u001b[0;34m)\u001b[0m\u001b[0;34m**\u001b[0m\u001b[0;36m2\u001b[0m\u001b[0;34m)\u001b[0m\u001b[0;34m)\u001b[0m\u001b[0;34m\u001b[0m\u001b[0m\n\u001b[0m\u001b[1;32m     44\u001b[0m             \u001b[0;32mexcept\u001b[0m \u001b[0mFloatingPointError\u001b[0m\u001b[0;34m:\u001b[0m\u001b[0;34m\u001b[0m\u001b[0m\n\u001b[1;32m     45\u001b[0m                 \u001b[0mK\u001b[0m\u001b[0;34m[\u001b[0m\u001b[0mi\u001b[0m\u001b[0;34m,\u001b[0m\u001b[0mj\u001b[0m\u001b[0;34m]\u001b[0m\u001b[0;34m=\u001b[0m\u001b[0;36m0.\u001b[0m\u001b[0;34m\u001b[0m\u001b[0m\n",
      "\u001b[0;32m<ipython-input-6-3d001eb42d51>\u001b[0m in \u001b[0;36m<lambda>\u001b[0;34m(a, b)\u001b[0m\n\u001b[1;32m     34\u001b[0m         \u001b[0minv_scale\u001b[0m \u001b[0;34m=\u001b[0m \u001b[0mnp\u001b[0m\u001b[0;34m.\u001b[0m\u001b[0mdiag\u001b[0m\u001b[0;34m(\u001b[0m\u001b[0minv_scale\u001b[0m\u001b[0;34m)\u001b[0m\u001b[0;34m\u001b[0m\u001b[0m\n\u001b[1;32m     35\u001b[0m     \u001b[0;32mif\u001b[0m \u001b[0mmetric\u001b[0m \u001b[0;34m==\u001b[0m \u001b[0;32mNone\u001b[0m\u001b[0;34m:\u001b[0m\u001b[0;34m\u001b[0m\u001b[0m\n\u001b[0;32m---> 36\u001b[0;31m         \u001b[0mdist\u001b[0m \u001b[0;34m=\u001b[0m \u001b[0;32mlambda\u001b[0m \u001b[0ma\u001b[0m\u001b[0;34m,\u001b[0m\u001b[0mb\u001b[0m\u001b[0;34m:\u001b[0m \u001b[0mnp\u001b[0m\u001b[0;34m.\u001b[0m\u001b[0msqrt\u001b[0m\u001b[0;34m(\u001b[0m\u001b[0mnp\u001b[0m\u001b[0;34m.\u001b[0m\u001b[0mdot\u001b[0m\u001b[0;34m(\u001b[0m\u001b[0mnp\u001b[0m\u001b[0;34m.\u001b[0m\u001b[0mdot\u001b[0m\u001b[0;34m(\u001b[0m\u001b[0ma\u001b[0m\u001b[0;34m-\u001b[0m\u001b[0mb\u001b[0m\u001b[0;34m,\u001b[0m\u001b[0minv_scale\u001b[0m\u001b[0;34m)\u001b[0m\u001b[0;34m,\u001b[0m\u001b[0ma\u001b[0m\u001b[0;34m-\u001b[0m\u001b[0mb\u001b[0m\u001b[0;34m)\u001b[0m\u001b[0;34m)\u001b[0m\u001b[0;34m\u001b[0m\u001b[0m\n\u001b[0m\u001b[1;32m     37\u001b[0m     \u001b[0;32melse\u001b[0m\u001b[0;34m:\u001b[0m\u001b[0;34m\u001b[0m\u001b[0m\n\u001b[1;32m     38\u001b[0m         \u001b[0mdist\u001b[0m \u001b[0;34m=\u001b[0m \u001b[0mmetric\u001b[0m\u001b[0;34m\u001b[0m\u001b[0m\n",
      "\u001b[0;31mKeyboardInterrupt\u001b[0m: "
     ]
    }
   ],
   "source": [
    "# specify number of dimensions and walkers\n",
    "ndim, nwalkers = 3, 20\n",
    "\n",
    "# specify prior center values and prior widths \n",
    "# of each hyperparameter (log sigma ^2, log l, and log nugget)\n",
    "theta_means = [0.0,0.0,-3]\n",
    "theta_widths = [2.,3.,3.] # order of mag width on covariance and length, 0.1 orders on nugget\n",
    "\n",
    "# instantiate the sampler using a squared exponential kernel and box prior\n",
    "sampler = mc.EnsembleSampler(nwalkers, ndim, log_hyperposterior, args=(X, f,theta_means,theta_widths,1,True,'SE','box'))\n",
    "\n",
    "# choose initial walker positions\n",
    "pos = [[0.,0.,-3.] + 0.5*np.random.randn(ndim) for i in range(nwalkers)]\n",
    "\n",
    "# run mcmc \n",
    "sampler.run_mcmc(pos, 500);\n",
    "\n",
    "# plot samples\n",
    "samples = sampler.chain[:, 200:, :].reshape((-1, ndim))\n",
    "corner.corner(samples, labels=[\"$\\log_{10}\\sigma^2$\", \"$\\log_{10} l$\",\"$\\log_{10}$ nugget\"]);"
   ]
  },
  {
   "cell_type": "markdown",
   "metadata": {},
   "source": [
    "You may notice that there are multiple local extrema to the objective functions we are trying to maximize/minimize.  As a result, some tweaking or multiple optimizer restarts may be required if we want to just use the hyperparameters at extrema of the objective function.  One could in principle take an even more Bayesian approach and marginalize over hyperparameters rather than choosing one set of hyperparameters.  This would be total overkill in most applications. It's also worth noting that the hyperposterior's profile is telling us about different ways to explain the data (duh, it's Bayes!).  In this case with the sinusoidal data, it could be that all the data could be explained as mostly noise or it could instead be that there is a small amount of noise in the data and that $\\sigma^2 \\sim 10^{-0.4}$ and $l \\sim 10^{-2}$.  In some cases you may know the noise level, in which case it can be fixed and the other hyperparameters can be optimized.  Let's fix the nugget to 1e-2 and see how the other hyperparameters are optimized:\n"
   ]
  },
  {
   "cell_type": "code",
   "execution_count": null,
   "metadata": {},
   "outputs": [],
   "source": [
    "# specify number of dimensions and walkers\n",
    "ndim, nwalkers = 3, 20\n",
    "\n",
    "# specify prior center values and prior widths \n",
    "# of each hyperparameter (log sigma ^2, log l, and log nugget)\n",
    "theta_means = [0.0,0.0,-2]\n",
    "theta_widths = [2.,3.,0.01] # 2 and 3 orders of mag width on covariance and length, 0.1 orders on nugget\n",
    "\n",
    "# instantiate the sampler using a squared exponential kernel and box prior\n",
    "sampler = mc.EnsembleSampler(nwalkers, ndim, log_hyperposterior, args=(X, f,theta_means,theta_widths,1,True,'SE','box'))\n",
    "\n",
    "# choose initial walker positions\n",
    "pos = [[0.,0.,-2.] + 0.1*np.random.randn(ndim) for i in range(nwalkers)]\n",
    "\n",
    "# run mcmc\n",
    "sampler.run_mcmc(pos, 500);\n",
    "\n",
    "# plot samples\n",
    "samples = sampler.chain[:, 200:, :].reshape((-1, ndim))\n",
    "corner.corner(samples, labels=[\"$\\log_{10}\\sigma^2$\", \"$\\log_{10} l$\",\"$\\log_{10}$ nugget\"]);"
   ]
  },
  {
   "cell_type": "markdown",
   "metadata": {},
   "source": [
    "Let's minimize the negative log marginal likelihood for data f assuming a \"nugget\" of 1e-2.  In order to make the minimization easy, we've used the above corner plots to inform the hyperprior to carve out the area of parameter space where we want the minimizer to search:\n"
   ]
  },
  {
   "cell_type": "code",
   "execution_count": 52,
   "metadata": {},
   "outputs": [
    {
     "name": "stdout",
     "output_type": "stream",
     "text": [
      "      fun: 3.9238890199401926\n",
      " hess_inv: <3x3 LbfgsInvHessProduct with dtype=float64>\n",
      "      jac: array([-3.89682580e+00, -1.95399252e-06,  5.95115388e+00])\n",
      "  message: b'CONVERGENCE: NORM_OF_PROJECTED_GRADIENT_<=_PGTOL'\n",
      "     nfev: 44\n",
      "      nit: 7\n",
      "   status: 0\n",
      "  success: True\n",
      "        x: array([ 0.        , -0.58729589, -2.1       ])\n"
     ]
    }
   ],
   "source": [
    "minres = None\n",
    "minresval = np.inf\n",
    "bounds = ([-0.5,0.0],[-3,1.],[-2.1,-1.92])\n",
    "x0 = [-0.25,-2.,-2.]\n",
    "res = spo.minimize(log_hyperposterior,\n",
    "                   x0=x0,\n",
    "                   args=(X,f,theta_means,theta_widths,-1.,True,'SE','normal'),\n",
    "                   bounds = bounds,\n",
    "                  )\n",
    "print ( res )"
   ]
  },
  {
   "cell_type": "code",
   "execution_count": 54,
   "metadata": {},
   "outputs": [
    {
     "name": "stdout",
     "output_type": "stream",
     "text": [
      "The log likelihood is 10.031889158424368\n"
     ]
    },
    {
     "ename": "ValueError",
     "evalue": "x and y must have same first dimension, but have shapes (9, 1) and (300, 1)",
     "output_type": "error",
     "traceback": [
      "\u001b[0;31m---------------------------------------------------------------------------\u001b[0m",
      "\u001b[0;31mValueError\u001b[0m                                Traceback (most recent call last)",
      "\u001b[0;32m<ipython-input-54-bae46225ebe2>\u001b[0m in \u001b[0;36m<module>\u001b[0;34m()\u001b[0m\n\u001b[1;32m     29\u001b[0m \u001b[0mplt\u001b[0m\u001b[0;34m.\u001b[0m\u001b[0mplot\u001b[0m\u001b[0;34m(\u001b[0m\u001b[0mX\u001b[0m\u001b[0;34m,\u001b[0m\u001b[0mf\u001b[0m\u001b[0;34m,\u001b[0m\u001b[0;34m'ro'\u001b[0m\u001b[0;34m)\u001b[0m\u001b[0;34m\u001b[0m\u001b[0m\n\u001b[1;32m     30\u001b[0m \u001b[0mplt\u001b[0m\u001b[0;34m.\u001b[0m\u001b[0mplot\u001b[0m\u001b[0;34m(\u001b[0m\u001b[0mXstar\u001b[0m\u001b[0;34m,\u001b[0m\u001b[0mfstar_bar\u001b[0m\u001b[0;34m,\u001b[0m\u001b[0mlabel\u001b[0m\u001b[0;34m=\u001b[0m\u001b[0;34m'GP mean'\u001b[0m\u001b[0;34m)\u001b[0m\u001b[0;34m\u001b[0m\u001b[0m\n\u001b[0;32m---> 31\u001b[0;31m \u001b[0mplt\u001b[0m\u001b[0;34m.\u001b[0m\u001b[0mplot\u001b[0m\u001b[0;34m(\u001b[0m\u001b[0mXstar\u001b[0m\u001b[0;34m,\u001b[0m\u001b[0mfstar\u001b[0m\u001b[0;34m,\u001b[0m\u001b[0mlabel\u001b[0m\u001b[0;34m=\u001b[0m\u001b[0;34m'sin(4x)'\u001b[0m\u001b[0;34m)\u001b[0m\u001b[0;34m\u001b[0m\u001b[0m\n\u001b[0m\u001b[1;32m     32\u001b[0m \u001b[0;34m\u001b[0m\u001b[0m\n\u001b[1;32m     33\u001b[0m \u001b[0mXstar_flat\u001b[0m\u001b[0;34m,\u001b[0m\u001b[0mfstar_bar_flat\u001b[0m\u001b[0;34m=\u001b[0m\u001b[0mXstar\u001b[0m\u001b[0;34m.\u001b[0m\u001b[0mflatten\u001b[0m\u001b[0;34m(\u001b[0m\u001b[0;34m)\u001b[0m\u001b[0;34m,\u001b[0m\u001b[0mfstar_bar\u001b[0m\u001b[0;34m.\u001b[0m\u001b[0mflatten\u001b[0m\u001b[0;34m(\u001b[0m\u001b[0;34m)\u001b[0m\u001b[0;34m\u001b[0m\u001b[0m\n",
      "\u001b[0;32m~/anaconda3/lib/python3.6/site-packages/matplotlib/pyplot.py\u001b[0m in \u001b[0;36mplot\u001b[0;34m(*args, **kwargs)\u001b[0m\n\u001b[1;32m   3238\u001b[0m                       mplDeprecation)\n\u001b[1;32m   3239\u001b[0m     \u001b[0;32mtry\u001b[0m\u001b[0;34m:\u001b[0m\u001b[0;34m\u001b[0m\u001b[0m\n\u001b[0;32m-> 3240\u001b[0;31m         \u001b[0mret\u001b[0m \u001b[0;34m=\u001b[0m \u001b[0max\u001b[0m\u001b[0;34m.\u001b[0m\u001b[0mplot\u001b[0m\u001b[0;34m(\u001b[0m\u001b[0;34m*\u001b[0m\u001b[0margs\u001b[0m\u001b[0;34m,\u001b[0m \u001b[0;34m**\u001b[0m\u001b[0mkwargs\u001b[0m\u001b[0;34m)\u001b[0m\u001b[0;34m\u001b[0m\u001b[0m\n\u001b[0m\u001b[1;32m   3241\u001b[0m     \u001b[0;32mfinally\u001b[0m\u001b[0;34m:\u001b[0m\u001b[0;34m\u001b[0m\u001b[0m\n\u001b[1;32m   3242\u001b[0m         \u001b[0max\u001b[0m\u001b[0;34m.\u001b[0m\u001b[0m_hold\u001b[0m \u001b[0;34m=\u001b[0m \u001b[0mwashold\u001b[0m\u001b[0;34m\u001b[0m\u001b[0m\n",
      "\u001b[0;32m~/anaconda3/lib/python3.6/site-packages/matplotlib/__init__.py\u001b[0m in \u001b[0;36minner\u001b[0;34m(ax, *args, **kwargs)\u001b[0m\n\u001b[1;32m   1708\u001b[0m                     warnings.warn(msg % (label_namer, func.__name__),\n\u001b[1;32m   1709\u001b[0m                                   RuntimeWarning, stacklevel=2)\n\u001b[0;32m-> 1710\u001b[0;31m             \u001b[0;32mreturn\u001b[0m \u001b[0mfunc\u001b[0m\u001b[0;34m(\u001b[0m\u001b[0max\u001b[0m\u001b[0;34m,\u001b[0m \u001b[0;34m*\u001b[0m\u001b[0margs\u001b[0m\u001b[0;34m,\u001b[0m \u001b[0;34m**\u001b[0m\u001b[0mkwargs\u001b[0m\u001b[0;34m)\u001b[0m\u001b[0;34m\u001b[0m\u001b[0m\n\u001b[0m\u001b[1;32m   1711\u001b[0m         \u001b[0mpre_doc\u001b[0m \u001b[0;34m=\u001b[0m \u001b[0minner\u001b[0m\u001b[0;34m.\u001b[0m\u001b[0m__doc__\u001b[0m\u001b[0;34m\u001b[0m\u001b[0m\n\u001b[1;32m   1712\u001b[0m         \u001b[0;32mif\u001b[0m \u001b[0mpre_doc\u001b[0m \u001b[0;32mis\u001b[0m \u001b[0;32mNone\u001b[0m\u001b[0;34m:\u001b[0m\u001b[0;34m\u001b[0m\u001b[0m\n",
      "\u001b[0;32m~/anaconda3/lib/python3.6/site-packages/matplotlib/axes/_axes.py\u001b[0m in \u001b[0;36mplot\u001b[0;34m(self, *args, **kwargs)\u001b[0m\n\u001b[1;32m   1435\u001b[0m         \u001b[0mkwargs\u001b[0m \u001b[0;34m=\u001b[0m \u001b[0mcbook\u001b[0m\u001b[0;34m.\u001b[0m\u001b[0mnormalize_kwargs\u001b[0m\u001b[0;34m(\u001b[0m\u001b[0mkwargs\u001b[0m\u001b[0;34m,\u001b[0m \u001b[0m_alias_map\u001b[0m\u001b[0;34m)\u001b[0m\u001b[0;34m\u001b[0m\u001b[0m\n\u001b[1;32m   1436\u001b[0m \u001b[0;34m\u001b[0m\u001b[0m\n\u001b[0;32m-> 1437\u001b[0;31m         \u001b[0;32mfor\u001b[0m \u001b[0mline\u001b[0m \u001b[0;32min\u001b[0m \u001b[0mself\u001b[0m\u001b[0;34m.\u001b[0m\u001b[0m_get_lines\u001b[0m\u001b[0;34m(\u001b[0m\u001b[0;34m*\u001b[0m\u001b[0margs\u001b[0m\u001b[0;34m,\u001b[0m \u001b[0;34m**\u001b[0m\u001b[0mkwargs\u001b[0m\u001b[0;34m)\u001b[0m\u001b[0;34m:\u001b[0m\u001b[0;34m\u001b[0m\u001b[0m\n\u001b[0m\u001b[1;32m   1438\u001b[0m             \u001b[0mself\u001b[0m\u001b[0;34m.\u001b[0m\u001b[0madd_line\u001b[0m\u001b[0;34m(\u001b[0m\u001b[0mline\u001b[0m\u001b[0;34m)\u001b[0m\u001b[0;34m\u001b[0m\u001b[0m\n\u001b[1;32m   1439\u001b[0m             \u001b[0mlines\u001b[0m\u001b[0;34m.\u001b[0m\u001b[0mappend\u001b[0m\u001b[0;34m(\u001b[0m\u001b[0mline\u001b[0m\u001b[0;34m)\u001b[0m\u001b[0;34m\u001b[0m\u001b[0m\n",
      "\u001b[0;32m~/anaconda3/lib/python3.6/site-packages/matplotlib/axes/_base.py\u001b[0m in \u001b[0;36m_grab_next_args\u001b[0;34m(self, *args, **kwargs)\u001b[0m\n\u001b[1;32m    402\u001b[0m                 \u001b[0mthis\u001b[0m \u001b[0;34m+=\u001b[0m \u001b[0margs\u001b[0m\u001b[0;34m[\u001b[0m\u001b[0;36m0\u001b[0m\u001b[0;34m]\u001b[0m\u001b[0;34m,\u001b[0m\u001b[0;34m\u001b[0m\u001b[0m\n\u001b[1;32m    403\u001b[0m                 \u001b[0margs\u001b[0m \u001b[0;34m=\u001b[0m \u001b[0margs\u001b[0m\u001b[0;34m[\u001b[0m\u001b[0;36m1\u001b[0m\u001b[0;34m:\u001b[0m\u001b[0;34m]\u001b[0m\u001b[0;34m\u001b[0m\u001b[0m\n\u001b[0;32m--> 404\u001b[0;31m             \u001b[0;32mfor\u001b[0m \u001b[0mseg\u001b[0m \u001b[0;32min\u001b[0m \u001b[0mself\u001b[0m\u001b[0;34m.\u001b[0m\u001b[0m_plot_args\u001b[0m\u001b[0;34m(\u001b[0m\u001b[0mthis\u001b[0m\u001b[0;34m,\u001b[0m \u001b[0mkwargs\u001b[0m\u001b[0;34m)\u001b[0m\u001b[0;34m:\u001b[0m\u001b[0;34m\u001b[0m\u001b[0m\n\u001b[0m\u001b[1;32m    405\u001b[0m                 \u001b[0;32myield\u001b[0m \u001b[0mseg\u001b[0m\u001b[0;34m\u001b[0m\u001b[0m\n\u001b[1;32m    406\u001b[0m \u001b[0;34m\u001b[0m\u001b[0m\n",
      "\u001b[0;32m~/anaconda3/lib/python3.6/site-packages/matplotlib/axes/_base.py\u001b[0m in \u001b[0;36m_plot_args\u001b[0;34m(self, tup, kwargs)\u001b[0m\n\u001b[1;32m    382\u001b[0m             \u001b[0mx\u001b[0m\u001b[0;34m,\u001b[0m \u001b[0my\u001b[0m \u001b[0;34m=\u001b[0m \u001b[0mindex_of\u001b[0m\u001b[0;34m(\u001b[0m\u001b[0mtup\u001b[0m\u001b[0;34m[\u001b[0m\u001b[0;34m-\u001b[0m\u001b[0;36m1\u001b[0m\u001b[0;34m]\u001b[0m\u001b[0;34m)\u001b[0m\u001b[0;34m\u001b[0m\u001b[0m\n\u001b[1;32m    383\u001b[0m \u001b[0;34m\u001b[0m\u001b[0m\n\u001b[0;32m--> 384\u001b[0;31m         \u001b[0mx\u001b[0m\u001b[0;34m,\u001b[0m \u001b[0my\u001b[0m \u001b[0;34m=\u001b[0m \u001b[0mself\u001b[0m\u001b[0;34m.\u001b[0m\u001b[0m_xy_from_xy\u001b[0m\u001b[0;34m(\u001b[0m\u001b[0mx\u001b[0m\u001b[0;34m,\u001b[0m \u001b[0my\u001b[0m\u001b[0;34m)\u001b[0m\u001b[0;34m\u001b[0m\u001b[0m\n\u001b[0m\u001b[1;32m    385\u001b[0m \u001b[0;34m\u001b[0m\u001b[0m\n\u001b[1;32m    386\u001b[0m         \u001b[0;32mif\u001b[0m \u001b[0mself\u001b[0m\u001b[0;34m.\u001b[0m\u001b[0mcommand\u001b[0m \u001b[0;34m==\u001b[0m \u001b[0;34m'plot'\u001b[0m\u001b[0;34m:\u001b[0m\u001b[0;34m\u001b[0m\u001b[0m\n",
      "\u001b[0;32m~/anaconda3/lib/python3.6/site-packages/matplotlib/axes/_base.py\u001b[0m in \u001b[0;36m_xy_from_xy\u001b[0;34m(self, x, y)\u001b[0m\n\u001b[1;32m    241\u001b[0m         \u001b[0;32mif\u001b[0m \u001b[0mx\u001b[0m\u001b[0;34m.\u001b[0m\u001b[0mshape\u001b[0m\u001b[0;34m[\u001b[0m\u001b[0;36m0\u001b[0m\u001b[0;34m]\u001b[0m \u001b[0;34m!=\u001b[0m \u001b[0my\u001b[0m\u001b[0;34m.\u001b[0m\u001b[0mshape\u001b[0m\u001b[0;34m[\u001b[0m\u001b[0;36m0\u001b[0m\u001b[0;34m]\u001b[0m\u001b[0;34m:\u001b[0m\u001b[0;34m\u001b[0m\u001b[0m\n\u001b[1;32m    242\u001b[0m             raise ValueError(\"x and y must have same first dimension, but \"\n\u001b[0;32m--> 243\u001b[0;31m                              \"have shapes {} and {}\".format(x.shape, y.shape))\n\u001b[0m\u001b[1;32m    244\u001b[0m         \u001b[0;32mif\u001b[0m \u001b[0mx\u001b[0m\u001b[0;34m.\u001b[0m\u001b[0mndim\u001b[0m \u001b[0;34m>\u001b[0m \u001b[0;36m2\u001b[0m \u001b[0;32mor\u001b[0m \u001b[0my\u001b[0m\u001b[0;34m.\u001b[0m\u001b[0mndim\u001b[0m \u001b[0;34m>\u001b[0m \u001b[0;36m2\u001b[0m\u001b[0;34m:\u001b[0m\u001b[0;34m\u001b[0m\u001b[0m\n\u001b[1;32m    245\u001b[0m             raise ValueError(\"x and y can be no greater than 2-D, but have \"\n",
      "\u001b[0;31mValueError\u001b[0m: x and y must have same first dimension, but have shapes (9, 1) and (300, 1)"
     ]
    },
    {
     "data": {
      "image/png": "[encoded data removed]",
      "text/plain": [
       "<matplotlib.figure.Figure at 0x1a165e0470>"
      ]
     },
     "metadata": {},
     "output_type": "display_data"
    }
   ],
   "source": [
    "\n",
    "# Use optimized hyperparameters\n",
    "cov_scale = 10**res[\"x\"][0]\n",
    "length_scale = 10**res[\"x\"][1]\n",
    "nugget_val = 10**res[\"x\"][2]\n",
    "\n",
    "nugget = np.diag(nugget_val*np.ones(X.shape[0]))\n",
    "\n",
    "KXX = cov_scale*squared_exponential_kernel(X,X,scale=length_scale,metric=None)\n",
    "KXXstar = cov_scale*squared_exponential_kernel(Xstar,X,scale=length_scale,metric=None)\n",
    "\n",
    "# Steps 1-2\n",
    "L = LA.cholesky(KXX+nugget,lower=True)\n",
    "alpha = LA.cho_solve((L,True), f)\n",
    "\n",
    "# Steps 3-5\n",
    "fstar_bar = np.dot(KXXstar,alpha)\n",
    "variances = []\n",
    "for i in range(KXXstar.shape[0]):\n",
    "    v = LA.solve_triangular(L,KXXstar[i,:],lower=True)\n",
    "    variances.append(cov_scale-np.dot(v.T,v))\n",
    "stds = np.sqrt(variances)\n",
    "\n",
    "# Step 6\n",
    "lml = -(1./2.)*np.dot(f.T,alpha) - np.sum(np.log(np.diag(L))) - (1./2.)*np.log(2*np.pi)\n",
    "lml = lml.flatten()[0]\n",
    "print ( 'The log likelihood is' , lml )\n",
    "\n",
    "plt.plot(X,f,'ro')\n",
    "plt.plot(Xstar,fstar_bar,label='GP mean')\n",
    "plt.plot(Xstar,fstar,label='sin(4x)')\n",
    "\n",
    "Xstar_flat,fstar_bar_flat=Xstar.flatten(),fstar_bar.flatten()\n",
    "plt.fill_between(Xstar_flat,fstar_bar_flat-stds,fstar_bar_flat+stds,alpha=0.5,color='gray')\n",
    "plt.ylim([-5,5])\n",
    "plt.xlabel('x')\n",
    "plt.ylabel('f')\n",
    "plt.legend()\n",
    "\n",
    "plt.figure()\n",
    "plt.scatter(Xstar,np.divide(np.abs(fstar-fstar_bar).flatten(),stds),label='mean residual')\n",
    "plt.xlabel('x')\n",
    "plt.ylabel(r'$\\frac{f-\\overline{f}}{\\delta f_{GP}}$',fontsize=18);\n",
    "\n",
    "plt.show()\n"
   ]
  },
  {
   "cell_type": "markdown",
   "metadata": {},
   "source": [
    "We've now finished running a trained Gaussian Process Regression!  "
   ]
  },
  {
   "cell_type": "markdown",
   "metadata": {},
   "source": [
    "## 5.0 Gaussian Process Regression: A Gravitational Wave Example"
   ]
  },
  {
   "cell_type": "markdown",
   "metadata": {},
   "source": [
    "Now let's look at a gravitational-wave example!  Rather than interpolate full waveforms, which is beyond what we have time for in this tutorial, we will instead interpolate fraction of mass loss from binary mergers as a function of mass ratio.  At our disposal, we have SXS simulations of black hole mergers.  Some outputs of these simulations include radiated energies.  Let's first get the data and plot it:"
   ]
  },
  {
   "cell_type": "code",
   "execution_count": 39,
   "metadata": {
    "collapsed": true
   },
   "outputs": [],
   "source": [
    "def LoadMetaData ( ID ):\n",
    "    \n",
    "    fname = \"GPR_Chris_Zoheyr/data/SXS_data/\" + ID + \"/metadata\" + ID.split('-')[1] + \".txt\"\n",
    "    fname = \"../data/SXS_data/\" + ID + \"/metadata\" + ID.split('-')[1] + \".txt\"\n",
    "    \n",
    "    with open(fname) as f:\n",
    "        content = f.readlines()\n",
    "    \n",
    "    for line in content:\n",
    "        if \"relaxed-mass1\" in line:\n",
    "            relaxed_mass1 = float ( line.split()[-1] )\n",
    "        elif \"relaxed-mass2\" in line:\n",
    "            relaxed_mass2 = float ( line.split()[-1] )\n",
    "        elif \"remnant-mass\" in line:\n",
    "            remnant_mass = float ( line.split()[-1] )\n",
    "    \n",
    "    total_mass = relaxed_mass1 + relaxed_mass2\n",
    "    mass_ratio = relaxed_mass1 / relaxed_mass2\n",
    "    Delta_E = ( total_mass - remnant_mass ) / total_mass\n",
    "    \n",
    "    return np.array ( [ mass_ratio , Delta_E ] )"
   ]
  },
  {
   "cell_type": "code",
   "execution_count": 43,
   "metadata": {},
   "outputs": [
    {
     "data": {
      "image/png": "[encoded data removed]",
      "text/plain": [
       "<matplotlib.figure.Figure at 0x1a15f90eb8>"
      ]
     },
     "metadata": {},
     "output_type": "display_data"
    }
   ],
   "source": [
    "import os\n",
    "#ids = os.listdir ( \"GPR_Chris_Zoheyr/data/SXS_data/\" )\n",
    "ids = os.listdir ( \"../data/SXS_data/\" )\n",
    "ids = [ ID for ID in ids if \"SXS\" in ID ]\n",
    "mass_ratios = []\n",
    "energies = []\n",
    "# extract energies and mass ratios from each file\n",
    "for idval in ids:\n",
    "    mass_ratio, Delta_E = LoadMetaData ( idval )\n",
    "    mass_ratios.append(mass_ratio)\n",
    "    energies.append(Delta_E)\n",
    "    \n",
    "\n",
    "mass_ratios,energies = np.array(mass_ratios),np.array(energies)\n",
    "plt.scatter(mass_ratios,energies)\n",
    "plt.xlabel('Mass Ratio')\n",
    "plt.ylabel('1- remnant mass / initial mass')\n",
    "plt.show()\n"
   ]
  },
  {
   "cell_type": "markdown",
   "metadata": {},
   "source": [
    "Unsurprisingly, the remnant mass over the initial mass goes to zero as the mass ratio $q$ is increased. This makes sense in the high mass ratio limit where one would expect no energy radiated from throwing a teeny black hole into a super-massive one.  Let's start by breaking the data set into a training set and a validation set.  We'll use 10 of the 19 simulations to train, and move to log space for fractional energy radiated: "
   ]
  },
  {
   "cell_type": "code",
   "execution_count": 44,
   "metadata": {},
   "outputs": [],
   "source": [
    "np.random.seed(0)\n",
    "indices = np.random.choice(range(len(mass_ratios)),replace=False,size=10)\n",
    "sel = np.in1d(np.array(range(len(mass_ratios))),indices)\n",
    "q_train = mass_ratios[sel] # q values training set\n",
    "q_val = mass_ratios[~sel] # q values validation set \n",
    "E_train = np.log10(energies[sel]) # log(deltaE) values training set\n",
    "E_val = np.log10(energies[~sel]) # log(deltaE) values validation set"
   ]
  },
  {
   "cell_type": "markdown",
   "metadata": {},
   "source": [
    "Before we interpolate, we should whiten our data by removing the mean and normalizing by the standard deviation.  We can also normalize q_train to be between 0 and 1.  This is a very helpful move in general, because that way we can use the same hyperparameter bounds in all interpolations."
   ]
  },
  {
   "cell_type": "code",
   "execution_count": 45,
   "metadata": {
    "collapsed": true
   },
   "outputs": [],
   "source": [
    "# Whiten data\n",
    "E_train_mean = np.mean(E_train)\n",
    "E_train_std = np.std(E_train)\n",
    "E_train_whitened = ((E_train-E_train_mean)/E_train_std).reshape(-1,1)\n",
    "E_val_whitened = ((E_val-E_train_mean)/E_train_std).reshape(-1,1)\n",
    "\n",
    "# Normalize input range\n",
    "q_train_min = np.amin(q_train)\n",
    "q_train_max = np.amax(q_train)\n",
    "q_train_whitened = ((q_train-q_train_min)/(q_train_max-q_train_min)).reshape(-1,1)\n",
    "q_val_whitened = ((q_val-q_train_min)/(q_train_max-q_train_min)).reshape(-1,1)"
   ]
  },
  {
   "cell_type": "markdown",
   "metadata": {},
   "source": [
    "Now let's train the GP:"
   ]
  },
  {
   "cell_type": "code",
   "execution_count": 47,
   "metadata": {},
   "outputs": [
    {
     "name": "stderr",
     "output_type": "stream",
     "text": [
      "/Users/christophermoore/anaconda3/lib/python3.6/site-packages/emcee/ensemble.py:335: RuntimeWarning: invalid value encountered in subtract\n",
      "  lnpdiff = (self.dim - 1.) * np.log(zz) + newlnprob - lnprob0\n",
      "/Users/christophermoore/anaconda3/lib/python3.6/site-packages/emcee/ensemble.py:336: RuntimeWarning: invalid value encountered in greater\n",
      "  accept = (lnpdiff > np.log(self._random.rand(len(lnpdiff))))\n",
      "/Users/christophermoore/anaconda3/lib/python3.6/site-packages/scipy/optimize/optimize.py:628: RuntimeWarning: invalid value encountered in double_scalars\n",
      "  grad[k] = (f(*((xk + d,) + args)) - f0) / d[k]\n"
     ]
    },
    {
     "name": "stdout",
     "output_type": "stream",
     "text": [
      "      fun: -3.584572273799715\n",
      " hess_inv: <3x3 LbfgsInvHessProduct with dtype=float64>\n",
      "      jac: array([ 0.8146154 , -2.21665779,  6.37214228])\n",
      "  message: b'CONVERGENCE: REL_REDUCTION_OF_F_<=_FACTR*EPSMCH'\n",
      "     nfev: 12\n",
      "      nit: 1\n",
      "   status: 0\n",
      "  success: True\n",
      "        x: array([ 0.8024564 , -0.05274803, -2.15501009])\n"
     ]
    },
    {
     "data": {
      "image/png": "[encoded data removed]",
      "text/plain": [
       "<matplotlib.figure.Figure at 0x1a162fd630>"
      ]
     },
     "metadata": {},
     "output_type": "display_data"
    }
   ],
   "source": [
    "# specify number of dimensions and walkers\n",
    "ndim, nwalkers = 3, 20\n",
    "\n",
    "# specify prior center values and prior widths\n",
    "# of each hyperparameter (log sigma ^2, log l, and log nugget)\n",
    "theta_means = [0.0,0.0,-4.]\n",
    "theta_widths = [2,2,4]\n",
    "\n",
    "# instantiate the sampler using a squared exponential kernel and box prior\n",
    "sampler = mc.EnsembleSampler(nwalkers, ndim, log_hyperposterior, \n",
    "                             args=(q_train_whitened, E_train_whitened,theta_means,theta_widths,1,True,'SE','box'))\n",
    "\n",
    "# choose initial walker positions\n",
    "pos = [[0.,0.,-2.] + np.random.randn(ndim) for i in range(nwalkers)]\n",
    "\n",
    "# run mcmc\n",
    "sampler.run_mcmc(pos, 500);\n",
    "\n",
    "# plot samples\n",
    "samples = sampler.chain[:, 200:, :].reshape((-1, ndim))\n",
    "corner.corner(samples, labels=[\"$\\log_{10}\\sigma^2$\", \"$\\log_{10} l^2$\",\"$\\log_{10}$ nugget\"]);\n",
    "\n",
    "# run the optimizer too to find the max hyperposterior.  We'll do a few restarts\n",
    "# since the optimizer can misbehave\n",
    "\n",
    "reslist = []\n",
    "minhpi = None\n",
    "minhp = np.inf\n",
    "for i in range(20):\n",
    "    res = spo.minimize(log_hyperposterior,x0=[0.0,-1.,-2]+ np.random.randn(ndim),\n",
    "                       args=(q_train_whitened, E_train_whitened,theta_means,theta_widths,-1.,True,'SE','box'),\n",
    "                       bounds=([-2,2],[-2,2],[-8,0]))\n",
    "    reslist.append(res)\n",
    "    if res[\"fun\"]< minhp:\n",
    "        minhp = res[\"fun\"]\n",
    "        minhpi = i\n",
    "print ( reslist[minhpi] )"
   ]
  },
  {
   "cell_type": "code",
   "execution_count": 48,
   "metadata": {},
   "outputs": [
    {
     "name": "stdout",
     "output_type": "stream",
     "text": [
      "The log likelihood is 3.584572273799715\n"
     ]
    },
    {
     "data": {
      "text/plain": [
       "<matplotlib.legend.Legend at 0x1a1603fa58>"
      ]
     },
     "execution_count": 48,
     "metadata": {},
     "output_type": "execute_result"
    },
    {
     "data": {
      "image/png": "[encoded data removed]",
      "text/plain": [
       "<matplotlib.figure.Figure at 0x1a164a42b0>"
      ]
     },
     "metadata": {},
     "output_type": "display_data"
    }
   ],
   "source": [
    "# define training input and output\n",
    "X = q_train_whitened\n",
    "f = E_train_whitened\n",
    "\n",
    "# define points of interest in interpolation\n",
    "Xstar = np.linspace(-1.,2.,500).reshape(-1,1)\n",
    "\n",
    "# Use optimized hyperparameters\n",
    "res = reslist[minhpi]\n",
    "cov_scale = 10**res[\"x\"][0]\n",
    "length_scale = 10**res[\"x\"][1]\n",
    "nugget_val = 10**res[\"x\"][2]\n",
    "nugget = np.diag(nugget_val*np.ones(X.shape[0]))\n",
    "\n",
    "KXX = cov_scale*squared_exponential_kernel(X,X,scale=length_scale,metric=None)\n",
    "KXXstar = cov_scale*squared_exponential_kernel(Xstar,X,scale=length_scale,metric=None)\n",
    "\n",
    "#---Do GPR---#\n",
    "\n",
    "# Steps 1-2\n",
    "L = LA.cholesky(KXX+nugget,lower=True)\n",
    "alpha = LA.cho_solve((L,True), f)\n",
    "\n",
    "# Steps 3-5\n",
    "fstar_bar = np.dot(KXXstar,alpha)\n",
    "variances = []\n",
    "for i in range(KXXstar.shape[0]):\n",
    "    v = LA.solve_triangular(L,KXXstar[i,:],lower=True)\n",
    "    variances.append(cov_scale-np.dot(v.T,v))\n",
    "stds = np.sqrt(variances)\n",
    "\n",
    "# Step 6\n",
    "lml = -(1./2.)*np.dot(f.T,alpha) - np.sum(np.log(np.diag(L))) - (X.shape[0]/2.)*np.log(2*np.pi)\n",
    "lml = lml.flatten()[0]\n",
    "print ('The log likelihood is',lml)\n",
    "\n",
    "# plotting and some gymnastics to undo whitening\n",
    "plt.plot(q_train,E_train,'ro',label='training')\n",
    "plt.scatter(q_val,E_val,color='b',label='validation')\n",
    "qstar = Xstar*(q_train_max-q_train_min)+q_train_min\n",
    "Estar_bar = fstar_bar*E_train_std+E_train_mean\n",
    "plt.plot(qstar,Estar_bar,label='GP mean')\n",
    "qstar_flat,Estar_bar_flat=qstar.flatten(),Estar_bar.flatten()\n",
    "stds = stds*E_train_std\n",
    "plt.fill_between(qstar_flat,Estar_bar_flat-stds,Estar_bar_flat+stds,alpha=0.5,color='gray')\n",
    "plt.xlabel('mass ratio')\n",
    "plt.ylabel('log(1 - remnant mass / final mass)')\n",
    "plt.xlim([0.9,11.])\n",
    "plt.legend()"
   ]
  },
  {
   "cell_type": "markdown",
   "metadata": {},
   "source": [
    "And now let's compare our GP uncertainties to the residuals with the mean"
   ]
  },
  {
   "cell_type": "code",
   "execution_count": 49,
   "metadata": {},
   "outputs": [
    {
     "name": "stdout",
     "output_type": "stream",
     "text": [
      "The log likelihood is 3.584572273799715\n"
     ]
    },
    {
     "data": {
      "text/plain": [
       "(0.9, 11.0)"
      ]
     },
     "execution_count": 49,
     "metadata": {},
     "output_type": "execute_result"
    },
    {
     "data": {
      "image/png": "[encoded data removed]",
      "text/plain": [
       "<matplotlib.figure.Figure at 0x1a164a0eb8>"
      ]
     },
     "metadata": {},
     "output_type": "display_data"
    }
   ],
   "source": [
    "X = q_train_whitened\n",
    "f = E_train_whitened\n",
    "Xstar = q_val_whitened\n",
    "# Use optimized hyperparameters\n",
    "\n",
    "cov_scale = 10**res[\"x\"][0]\n",
    "length_scale = 10**res[\"x\"][1]\n",
    "nugget_val = 10**res[\"x\"][2]\n",
    "nugget = np.diag(nugget_val*np.ones(X.shape[0]))\n",
    "KXX = cov_scale*squared_exponential_kernel(X,X,scale=length_scale,metric=None)\n",
    "KXXstar = cov_scale*squared_exponential_kernel(Xstar,X,scale=length_scale,metric=None)\n",
    "\n",
    "# Steps 1-2\n",
    "L = LA.cholesky(KXX+nugget,lower=True)\n",
    "alpha = LA.cho_solve((L,True), f)\n",
    "\n",
    "# Steps 3-5\n",
    "fstar_bar = np.dot(KXXstar,alpha)\n",
    "variances = []\n",
    "for i in range(KXXstar.shape[0]):\n",
    "    v = LA.solve_triangular(L,KXXstar[i,:],lower=True)\n",
    "    variances.append(cov_scale-np.dot(v.T,v))\n",
    "stds = np.sqrt(variances)\n",
    "\n",
    "# Step 6\n",
    "lml = -(1./2.)*np.dot(f.T,alpha) - np.sum(np.log(np.diag(L))) - (X.shape[0]/2.)*np.log(2*np.pi)\n",
    "lml = lml.flatten()[0]\n",
    "print ('The log likelihood is',lml)\n",
    "\n",
    "\n",
    "plt.scatter(q_val,np.absolute(fstar_bar - E_val_whitened).flatten()/stds,label='mean residual')\n",
    "plt.xlabel('mass ratio')\n",
    "plt.ylabel(r'$\\frac{\\big|\\Delta\\log({1-\\frac{\\rm remnant}{\\rm total}})\\big|}{\\sigma_{\\rm GP}}$',fontsize=22)\n",
    "plt.xlim([0.9,11.])"
   ]
  },
  {
   "cell_type": "markdown",
   "metadata": {},
   "source": [
    "### Final Investigations\n",
    "* How do the residuals look?\n",
    "* If the residuals don't match the expected uncertainties, what changes could you make to e.g. your kernel in order to fix it?"
   ]
  },
  {
   "cell_type": "code",
   "execution_count": null,
   "metadata": {
    "collapsed": true
   },
   "outputs": [],
   "source": []
  }
 ],
 "metadata": {
  "kernelspec": {
   "display_name": "Python 3",
   "language": "python",
   "name": "python3"
  },
  "language_info": {
   "codemirror_mode": {
    "name": "ipython",
    "version": 3
   },
   "file_extension": ".py",
   "mimetype": "text/x-python",
   "name": "python",
   "nbconvert_exporter": "python",
   "pygments_lexer": "ipython3",
   "version": "3.6.3"
  }
 },
 "nbformat": 4,
 "nbformat_minor": 2
}
